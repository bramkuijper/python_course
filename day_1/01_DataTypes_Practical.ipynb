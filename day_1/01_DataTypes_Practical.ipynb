{
 "cells": [
  {
   "cell_type": "code",
   "execution_count": null,
   "metadata": {},
   "outputs": [],
   "source": [
    "# Ignore this code; it's only here to display the image below\n",
    "from IPython.display import Image\n",
    "Image(\"../images/logo.jpg\")"
   ]
  },
  {
   "cell_type": "markdown",
   "metadata": {},
   "source": [
    "# Python for scientific research\n",
    "# Built-in data types\n",
    "\n",
    "### John Joseph Valletta\n",
    "### University of Exeter, Penryn Campus, UK\n",
    "### June 2017"
   ]
  },
  {
   "cell_type": "markdown",
   "metadata": {},
   "source": [
    "# Introduction\n",
    "The objective of this first practical is to familiarise yourself with Python's\n",
    "built-in data types and the print function. For all practicals we will be using\n",
    "Spyder (**S**cientific **PY**thon **D**evelopment **E**nvi**R**onment). Spyder is an interactive\n",
    "development environment (IDE), similar to RStudio or MATLAB.\n",
    "\n",
    "The default view of Spyder is shown below:\n",
    "\n",
    "* **IPython Console**: Type in your Python statements which are executed after pressing enter\n",
    "* **Variable Explorer**: Allows you to browse through the variables that you have created so far\n",
    "* **Text Editor**: Write and save a list of Python commands to create a reproducible script\n",
    "* **Run Script**: By pressing the ``play\" button, the *whole* script is executed\n",
    "\n",
    "Typically the IPython console is used to verify individual statements before \n",
    "introducing them into your script. So please experiment with the IPython console\n",
    "but we **highly** recommend that you save all your commands into a reproducible\n",
    "script, commented using the `#` sign."
   ]
  },
  {
   "cell_type": "code",
   "execution_count": null,
   "metadata": {},
   "outputs": [],
   "source": [
    "Image(\"../images/spyder_annotated.jpg\") # Ignore this code; it's only here to display the image below"
   ]
  },
  {
   "cell_type": "markdown",
   "metadata": {},
   "source": [
    "# The Zen of Python\n",
    "* Coding standards are important in **every** programming language, but particular emphasis is placed in Python\n",
    "* [PEP 8](https://www.python.org/dev/peps/pep-0008/) is a style guide for Python code  \n",
    "* If in doubt, be **consistent** in the way you structure your code"
   ]
  },
  {
   "cell_type": "code",
   "execution_count": null,
   "metadata": {},
   "outputs": [],
   "source": [
    "import this"
   ]
  },
  {
   "cell_type": "markdown",
   "metadata": {},
   "source": [
    "# Core data types\n",
    "Python contains the following core data types:\n",
    "\n",
    "* **Integers**: `int`\n",
    "* **Floating point**: `float`\n",
    "* **Complex numbers**: `complex`\n",
    "* **Boolean**: `bool`\n",
    "* **Strings**: `str`\n",
    "\n",
    "When you create a variable/object in Python, you can check what type it is\n",
    "using the `type` command."
   ]
  },
  {
   "cell_type": "code",
   "execution_count": 4,
   "metadata": {},
   "outputs": [
    {
     "data": {
      "text/plain": [
       "int"
      ]
     },
     "execution_count": 4,
     "metadata": {},
     "output_type": "execute_result"
    }
   ],
   "source": [
    "NGenes = 1500 # number of genes measured\n",
    "type(NGenes)"
   ]
  },
  {
   "cell_type": "code",
   "execution_count": 5,
   "metadata": {},
   "outputs": [
    {
     "data": {
      "text/plain": [
       "float"
      ]
     },
     "execution_count": 5,
     "metadata": {},
     "output_type": "execute_result"
    }
   ],
   "source": [
    "Km = 0.015 # Michaelis constant for chymotrypsin type(Km) # float\n",
    "type(Km)"
   ]
  },
  {
   "cell_type": "code",
   "execution_count": 6,
   "metadata": {},
   "outputs": [
    {
     "data": {
      "text/plain": [
       "bool"
      ]
     },
     "execution_count": 6,
     "metadata": {},
     "output_type": "execute_result"
    }
   ],
   "source": [
    "isTransFactor = True # is protein a transcription factor?\n",
    "type(isTransFactor) # bool"
   ]
  },
  {
   "cell_type": "markdown",
   "metadata": {},
   "source": [
    "## Arithmetic operators\n",
    "The following arithmetic operators are available:\n",
    "\n",
    "| Symbol |  Operator | Example |\n",
    "|:-----------|:----------|:----------|\n",
    "| `+` |  Addition| 6+2 = 8| \n",
    "| `-` |  Subtraction| 6-2 = 4|  \n",
    "| `*` |  Multiplication|6*2 = 12| \n",
    "| `/` |  Division| 6/2 = 3.0|\n",
    "| `//` | Floor Division| 6//2 = 3|\n",
    "| `%` |  Modulo| 6%2 = 0|\n",
    "| `**` |  Power| 6**2 = 36|"
   ]
  },
  {
   "cell_type": "markdown",
   "metadata": {},
   "source": [
    "## Relational operators\n",
    "The following relational operators are available:\n",
    "\n",
    "| Symbol |  Operator | Example |\n",
    "|:-----------|:----------|:----------|\n",
    "| `==` |  **Equals**: `True` when objects have equal values| 5 == 5 returns `True`| \n",
    "| `!=` |  **Not equals**: `True` when objects have unequal values| 5 != 5 returns `False`|  \n",
    "| `<` |   **Less than**: `True` when the left object is less than the right object|2 < 5 returns `True`| \n",
    "| `>` |   **Greater than**: `True` when the left object is greater than the right object|2 > 5 returns `False`|\n",
    "| `<=` |   **Less than or equals**: `True` when the left object is less than or equal to the right object|5 <= 5 returns `True`|\n",
    "| `>=` |   **Greater than or equals**: `True` when the left object is greater than or equal to the right object|5 >= 5 returns `True`|\n",
    "\n",
    "**N.B**\n",
    "* Relational operators return a variable of type `bool`, i.e `True` or `False`\n",
    "* Avoid using `==` and `!=` when using `float`, use `<=` or `>=` instead"
   ]
  },
  {
   "cell_type": "markdown",
   "metadata": {},
   "source": [
    "## Logical operators\n",
    "Logical operators work on objects of type `bool` and so are typically used in conjunction with relational operators:\n",
    "\n",
    "| `x` |  `y` | `x and y` | `x or y`| `x != y` (exclusive or)| `not x`|\n",
    "|:-----------|:----------|:----------|:-----------|:----------|:----------|\n",
    "| `True` |  `True` | `True` | `True`| `False`| `False`|\n",
    "| `True` |  `False` | `False` | `True`| `True`| `False`|\n",
    "| `False` |  `True` | `False` | `True`| `True`| `True`|\n",
    "| `False` |  `False` | `False` | `False`| `False`| `True`|"
   ]
  },
  {
   "cell_type": "markdown",
   "metadata": {},
   "source": [
    "## Exercise 1\n",
    "1. Create a handful of variables e.g `x = 2`, `y = 4.7`, `z = 4`, etc. and play around with both arithmetic (e.g `x**y`) and relational (e.g `x >= z`) operators\n",
    "2. Use results from relational operations to perform logical operations e.g `x <= y and z > x`\n",
    "\n",
    "p.s Although this exercise sounds incredibly tedious, familiarising yourself with relational and logical operators will enable us to create more flexible programs using flow control statements introduced in the next practical."
   ]
  },
  {
   "cell_type": "markdown",
   "metadata": {},
   "source": [
    "## String Operators\n",
    "We can create strings by using single quotes or double quotes"
   ]
  },
  {
   "cell_type": "code",
   "execution_count": 7,
   "metadata": {},
   "outputs": [
    {
     "data": {
      "text/plain": [
       "str"
      ]
     },
     "execution_count": 7,
     "metadata": {},
     "output_type": "execute_result"
    }
   ],
   "source": [
    "name = 'James'\n",
    "surname = \"Bond\"\n",
    "type(name)"
   ]
  },
  {
   "cell_type": "markdown",
   "metadata": {},
   "source": [
    "Using triple quotes we can create strings that span multiple lines"
   ]
  },
  {
   "cell_type": "code",
   "execution_count": 8,
   "metadata": {},
   "outputs": [
    {
     "name": "stdout",
     "output_type": "stream",
     "text": [
      "\n",
      "spam\n",
      "egg\n",
      "bacon\n",
      "spam\n",
      "spam\n",
      "spam\n",
      "bacon\n",
      "egg\n",
      "spam\n",
      "spam\n",
      "\n"
     ]
    }
   ],
   "source": [
    "mySandwich = '''\n",
    "spam\n",
    "egg\n",
    "bacon\n",
    "spam\n",
    "spam\n",
    "spam\n",
    "bacon\n",
    "egg\n",
    "spam\n",
    "spam\n",
    "'''\n",
    "print(mySandwich) # we will go through the print() function in detail in the next section"
   ]
  },
  {
   "cell_type": "code",
   "execution_count": 9,
   "metadata": {},
   "outputs": [
    {
     "name": "stdout",
     "output_type": "stream",
     "text": [
      "\n",
      "spam\n",
      "egg\n",
      "bacon\n",
      "spam\n",
      "spam\n",
      "spam\n",
      "bacon\n",
      "egg\n",
      "spam\n",
      "spam\n",
      "\n"
     ]
    }
   ],
   "source": [
    "mySandwich = \"\"\"\n",
    "spam\n",
    "egg\n",
    "bacon\n",
    "spam\n",
    "spam\n",
    "spam\n",
    "bacon\n",
    "egg\n",
    "spam\n",
    "spam\n",
    "\"\"\"\n",
    "print(mySandwich) # we will go through the print() function in detail in the next section"
   ]
  },
  {
   "cell_type": "markdown",
   "metadata": {},
   "source": [
    "Python's arithmetic operators `+` and `*` are defined for objects of type `str` (\"overloaded\" in geek terminology):\n",
    "\n",
    "* `+`: concatenates strings together\n",
    "* `*`: repeats a string N times"
   ]
  },
  {
   "cell_type": "code",
   "execution_count": 10,
   "metadata": {},
   "outputs": [
    {
     "data": {
      "text/plain": [
       "'acgtaagtcgtcactatt'"
      ]
     },
     "execution_count": 10,
     "metadata": {},
     "output_type": "execute_result"
    }
   ],
   "source": [
    "dna1 = 'acgtaagtc'\n",
    "dna2 = \"gtcactatt\"\n",
    "dna1 + dna2"
   ]
  },
  {
   "cell_type": "code",
   "execution_count": 11,
   "metadata": {},
   "outputs": [
    {
     "data": {
      "text/plain": [
       "'aaaaaaaaaaaaaaaaaaaaaaaaaaaaaaaaaaaaaaaaaaaaaaaaaa'"
      ]
     },
     "execution_count": 11,
     "metadata": {},
     "output_type": "execute_result"
    }
   ],
   "source": [
    "# Create a 50 nucleotide long poly(A) tail sequence\n",
    "\"a\"*50"
   ]
  },
  {
   "cell_type": "code",
   "execution_count": 12,
   "metadata": {},
   "outputs": [
    {
     "data": {
      "text/plain": [
       "'aaaaaaaaaaaaaaaaaaaaaaaaaaaaaaaaaaaaaaaaaaaaaaaaaa'"
      ]
     },
     "execution_count": 12,
     "metadata": {},
     "output_type": "execute_result"
    }
   ],
   "source": [
    "# You do (str * int) or (int * str)\n",
    "50*\"a\""
   ]
  },
  {
   "cell_type": "code",
   "execution_count": 13,
   "metadata": {},
   "outputs": [
    {
     "data": {
      "text/plain": [
       "'actgactgactgactgactg'"
      ]
     },
     "execution_count": 13,
     "metadata": {},
     "output_type": "execute_result"
    }
   ],
   "source": [
    "# Repeat the sequence \"actg\" 5 times\n",
    "mySeq = \"actg\"\n",
    "mySeq*5"
   ]
  },
  {
   "cell_type": "markdown",
   "metadata": {},
   "source": [
    "We can also use relational operators on strings"
   ]
  },
  {
   "cell_type": "code",
   "execution_count": 14,
   "metadata": {},
   "outputs": [
    {
     "data": {
      "text/plain": [
       "False"
      ]
     },
     "execution_count": 14,
     "metadata": {},
     "output_type": "execute_result"
    }
   ],
   "source": [
    "dna1 = \"acgtttgacgtaaacgttgacgttaa\"\n",
    "dna2 = \"acggttgaactgataccccgctataa\"\n",
    "dna1 == dna2"
   ]
  },
  {
   "cell_type": "code",
   "execution_count": 15,
   "metadata": {},
   "outputs": [
    {
     "data": {
      "text/plain": [
       "True"
      ]
     },
     "execution_count": 15,
     "metadata": {},
     "output_type": "execute_result"
    }
   ],
   "source": [
    "dna1 != dna2"
   ]
  },
  {
   "cell_type": "code",
   "execution_count": 16,
   "metadata": {},
   "outputs": [
    {
     "data": {
      "text/plain": [
       "True"
      ]
     },
     "execution_count": 16,
     "metadata": {},
     "output_type": "execute_result"
    }
   ],
   "source": [
    "# The \"in\" relational operator is True if a string is contained within another string \n",
    "motif = \"acgtaaa\"\n",
    "motif in dna1"
   ]
  },
  {
   "cell_type": "code",
   "execution_count": 17,
   "metadata": {},
   "outputs": [
    {
     "data": {
      "text/plain": [
       "False"
      ]
     },
     "execution_count": 17,
     "metadata": {},
     "output_type": "execute_result"
    }
   ],
   "source": [
    "motif in dna2"
   ]
  },
  {
   "cell_type": "markdown",
   "metadata": {},
   "source": [
    "We can access individual characters or range of characters from strings using *slicing*\n",
    "\n",
    "**NOTE: Unlike MATLAB and R, Python starts counting from 0!**"
   ]
  },
  {
   "cell_type": "code",
   "execution_count": 18,
   "metadata": {},
   "outputs": [
    {
     "data": {
      "text/plain": [
       "'J'"
      ]
     },
     "execution_count": 18,
     "metadata": {},
     "output_type": "execute_result"
    }
   ],
   "source": [
    "name = \"John Smith\"\n",
    "name[0] # first letter in name"
   ]
  },
  {
   "cell_type": "code",
   "execution_count": 19,
   "metadata": {},
   "outputs": [
    {
     "data": {
      "text/plain": [
       "'n'"
      ]
     },
     "execution_count": 19,
     "metadata": {},
     "output_type": "execute_result"
    }
   ],
   "source": [
    "name[3] # fourth letter in name"
   ]
  },
  {
   "cell_type": "code",
   "execution_count": 20,
   "metadata": {},
   "outputs": [
    {
     "data": {
      "text/plain": [
       "'John'"
      ]
     },
     "execution_count": 20,
     "metadata": {},
     "output_type": "execute_result"
    }
   ],
   "source": [
    "name[0:4] # the first four letters in name"
   ]
  },
  {
   "cell_type": "code",
   "execution_count": 21,
   "metadata": {},
   "outputs": [
    {
     "data": {
      "text/plain": [
       "'Smith'"
      ]
     },
     "execution_count": 21,
     "metadata": {},
     "output_type": "execute_result"
    }
   ],
   "source": [
    "name[5:] # from the sixth letter until the end"
   ]
  },
  {
   "cell_type": "code",
   "execution_count": 22,
   "metadata": {},
   "outputs": [
    {
     "data": {
      "text/plain": [
       "'h'"
      ]
     },
     "execution_count": 22,
     "metadata": {},
     "output_type": "execute_result"
    }
   ],
   "source": [
    "name[-1] # the last letter in name"
   ]
  },
  {
   "cell_type": "code",
   "execution_count": 23,
   "metadata": {},
   "outputs": [
    {
     "data": {
      "text/plain": [
       "'ith'"
      ]
     },
     "execution_count": 23,
     "metadata": {},
     "output_type": "execute_result"
    }
   ],
   "source": [
    "name[-3:] # the last three letters in name"
   ]
  },
  {
   "cell_type": "markdown",
   "metadata": {},
   "source": [
    "## Exercise 2\n",
    "1. Create a few strings using single, double and triple quotes and experiment with the artihmetic operators `+` and `*`\n",
    "2. Use the created strings to perform relational operations on them\n",
    "3. Create a long string and use the *slicing* operators to access different sets of characters"
   ]
  },
  {
   "cell_type": "markdown",
   "metadata": {},
   "source": [
    "# The print function\n",
    "Before continuing with the built-in data types it is useful to introduce the `print` function. As it says on the tin, the print function, prints the contents of an object to the system's standard output by default, i.e your IPython console."
   ]
  },
  {
   "cell_type": "code",
   "execution_count": 24,
   "metadata": {},
   "outputs": [
    {
     "name": "stdout",
     "output_type": "stream",
     "text": [
      "Hello world\n",
      "Lovely Spaaam! \n",
      "Wonderful Spaaam!\n"
     ]
    }
   ],
   "source": [
    "print(\"Hello world\")\n",
    "print(\"Lovely Spaaam! \\nWonderful Spaaam!\") # print \"Wonderful Spaam!\" on a new line"
   ]
  },
  {
   "cell_type": "markdown",
   "metadata": {},
   "source": [
    "We typically want to print statements that include the values of variables we have created. There are two ways we can do this in Python, using the `%` or `.format` operator."
   ]
  },
  {
   "cell_type": "code",
   "execution_count": 25,
   "metadata": {},
   "outputs": [
    {
     "name": "stdout",
     "output_type": "stream",
     "text": [
      "We sequenced 10 samples and measured 18173 genes\n",
      "We sequenced 10 samples and measured 18173 genes\n"
     ]
    }
   ],
   "source": [
    "NSamples = 10 # number of samples we RNA-sequenced\n",
    "NGenes = 18173 # number of genes measured\n",
    "print(\"We sequenced %d samples and measured %d genes\" % (NSamples, NGenes))\n",
    "print(\"We sequenced {0} samples and measured {1} genes\".format(NSamples, NGenes))"
   ]
  },
  {
   "cell_type": "markdown",
   "metadata": {},
   "source": [
    "The `%` operator is similar in nature to that used in C and other languages. Although there is still a lot of Python code written using the `%` operator, the `.format` is the preferred method for Python 3, as it offers increased flexibility ([PEP 3101](https://www.python.org/dev/peps/pep-3101/)). So from now on the `.format` method will be used.\n",
    "\n",
    "Note that **both** methods produce a new string which is then \"printed\" to screen. The `.format` uses a method associated with objects of type `str` (we will talk about methods of objects later on)."
   ]
  },
  {
   "cell_type": "code",
   "execution_count": 26,
   "metadata": {},
   "outputs": [
    {
     "name": "stdout",
     "output_type": "stream",
     "text": [
      "We sequenced 10 samples and measured 18173 genes\n",
      "We sequenced 10 samples and measured 18173 genes\n"
     ]
    }
   ],
   "source": [
    "sentence1 = \"We sequenced %d samples and measured %d genes\" % (NSamples, NGenes)\n",
    "sentence2 = \"We sequenced {0} samples and measured {1} genes\".format(NSamples, NGenes)\n",
    "print(sentence1)\n",
    "print(sentence2)"
   ]
  },
  {
   "cell_type": "code",
   "execution_count": 27,
   "metadata": {},
   "outputs": [
    {
     "name": "stdout",
     "output_type": "stream",
     "text": [
      "pi to 2 decimal places is 3.14\n",
      "pi to 4 decimal places is 3.1416\n"
     ]
    }
   ],
   "source": [
    "# More examples using floats\n",
    "pi = 3.14159265359\n",
    "print(\"pi to 2 decimal places is {0:.2f}\".format(pi))\n",
    "print(\"pi to 4 decimal places is {0:.4f}\".format(pi))"
   ]
  },
  {
   "cell_type": "markdown",
   "metadata": {},
   "source": [
    "## Exercise 3\n",
    "1. Create an `integer`, `float` and `string`, place them within a sentence and print to screen\n",
    "2. Create long floats and print them to screen using different decimal places"
   ]
  },
  {
   "cell_type": "markdown",
   "metadata": {},
   "source": [
    "# Container data types\n",
    "Now that we are familiar with Python's core data types, we can start creating more complex data structures. As the name imply container data types simply \"contain\" one or many of the core data types (`int`, `float`, `complex`, `bool`, `str`).\n",
    "\n",
    "## Lists: `list`\n",
    "Suppose we found a set of differentially expressed genes and we want to perform some form of pathway analysis on them. It would be incredibly tedious and inefficient to assign a variable to each genes e.g `gene1 = \"Irf1\", gene2 = \"Ccl3\", ..., gene100 = \"Cxcl10\"`. Instead we can store all of them in a `list` and access individual genes using *slicing*, akin to what we did for strings"
   ]
  },
  {
   "cell_type": "code",
   "execution_count": 28,
   "metadata": {},
   "outputs": [
    {
     "data": {
      "text/plain": [
       "list"
      ]
     },
     "execution_count": 28,
     "metadata": {},
     "output_type": "execute_result"
    }
   ],
   "source": [
    "genes = [\"Irf1\", \"Ccl3\", \"Il12rb1\", \"Ifng\", \"Cxcl10\"]\n",
    "type(genes)"
   ]
  },
  {
   "cell_type": "code",
   "execution_count": 29,
   "metadata": {},
   "outputs": [
    {
     "data": {
      "text/plain": [
       "'Irf1'"
      ]
     },
     "execution_count": 29,
     "metadata": {},
     "output_type": "execute_result"
    }
   ],
   "source": [
    "genes[0] # access the name of the first gene"
   ]
  },
  {
   "cell_type": "code",
   "execution_count": 30,
   "metadata": {},
   "outputs": [
    {
     "data": {
      "text/plain": [
       "'Cxcl10'"
      ]
     },
     "execution_count": 30,
     "metadata": {},
     "output_type": "execute_result"
    }
   ],
   "source": [
    "genes[-1] # access the name of the last gene"
   ]
  },
  {
   "cell_type": "code",
   "execution_count": 31,
   "metadata": {},
   "outputs": [
    {
     "data": {
      "text/plain": [
       "['Ccl3', 'Il12rb1']"
      ]
     },
     "execution_count": 31,
     "metadata": {},
     "output_type": "execute_result"
    }
   ],
   "source": [
    "genes[1:3] # access the second and third genes"
   ]
  },
  {
   "cell_type": "markdown",
   "metadata": {},
   "source": [
    "When we access an individual gene e.g `genes[0]`, we obtain a string, which we can then slice further to obtain individual characters."
   ]
  },
  {
   "cell_type": "code",
   "execution_count": 32,
   "metadata": {},
   "outputs": [
    {
     "data": {
      "text/plain": [
       "'I'"
      ]
     },
     "execution_count": 32,
     "metadata": {},
     "output_type": "execute_result"
    }
   ],
   "source": [
    "genes[0][0] # access first character of first gene"
   ]
  },
  {
   "cell_type": "code",
   "execution_count": 33,
   "metadata": {},
   "outputs": [
    {
     "data": {
      "text/plain": [
       "'1'"
      ]
     },
     "execution_count": 33,
     "metadata": {},
     "output_type": "execute_result"
    }
   ],
   "source": [
    "genes[0][-1] # access last character of first gene"
   ]
  },
  {
   "cell_type": "markdown",
   "metadata": {},
   "source": [
    "## Dictionary: `dict`\n",
    "Data in lists are accessed using an index (0, 1, 2, etc.). Dictionaries allow us to store data which can be accessed using a unique key. Once we access the data, we can slice it as we've done previously."
   ]
  },
  {
   "cell_type": "code",
   "execution_count": 34,
   "metadata": {},
   "outputs": [
    {
     "data": {
      "text/plain": [
       "dict"
      ]
     },
     "execution_count": 34,
     "metadata": {},
     "output_type": "execute_result"
    }
   ],
   "source": [
    "favGene = {\"Symbol\": \"Ifng\", \"Name\": \"Interferon\", \"EntrezID\": 3458}\n",
    "type(favGene)"
   ]
  },
  {
   "cell_type": "code",
   "execution_count": 35,
   "metadata": {},
   "outputs": [
    {
     "data": {
      "text/plain": [
       "3458"
      ]
     },
     "execution_count": 35,
     "metadata": {},
     "output_type": "execute_result"
    }
   ],
   "source": [
    "favGene[\"EntrezID\"] # access the EntrezID of my favourite gene"
   ]
  },
  {
   "cell_type": "code",
   "execution_count": 36,
   "metadata": {},
   "outputs": [
    {
     "data": {
      "text/plain": [
       "'If'"
      ]
     },
     "execution_count": 36,
     "metadata": {},
     "output_type": "execute_result"
    }
   ],
   "source": [
    "favGene[\"Symbol\"][0:2] # first two characters of my favourite gene's symbol"
   ]
  },
  {
   "cell_type": "markdown",
   "metadata": {},
   "source": [
    "Dictionaries are particularly useful to store parameters of a model for example. It is easier to access these parameters by their name, rather than remembering in what order they were put in a list."
   ]
  },
  {
   "cell_type": "code",
   "execution_count": 37,
   "metadata": {},
   "outputs": [
    {
     "data": {
      "text/plain": [
       "0.4"
      ]
     },
     "execution_count": 37,
     "metadata": {},
     "output_type": "execute_result"
    }
   ],
   "source": [
    "myParam = {\"beta\": 0.2, \"gamma\": 1.3, \"delta\": 0.4}\n",
    "myParam[\"delta\"] # access the delta parameter"
   ]
  },
  {
   "cell_type": "markdown",
   "metadata": {},
   "source": [
    "## Sets: `set`\n",
    "Sets are *unordered* collections of *unique* elements."
   ]
  },
  {
   "cell_type": "code",
   "execution_count": 38,
   "metadata": {},
   "outputs": [
    {
     "data": {
      "text/plain": [
       "set"
      ]
     },
     "execution_count": 38,
     "metadata": {},
     "output_type": "execute_result"
    }
   ],
   "source": [
    "languages = set(['Maltese', 'English', 'Italian', 'Spanish']) # languages I can speak(ish)\n",
    "type(languages)"
   ]
  },
  {
   "cell_type": "markdown",
   "metadata": {
    "collapsed": true
   },
   "source": [
    "Once we have defined a set we can perform any set operation (remember those venn diagrams?). For example, suppose we have identified a list of differentially expressed genes (DEGs). We now want to perform gene set encrichment analysis. The first step of such analysis is to find which DEGs are also present in a particular pathway."
   ]
  },
  {
   "cell_type": "code",
   "execution_count": 39,
   "metadata": {},
   "outputs": [
    {
     "name": "stdout",
     "output_type": "stream",
     "text": [
      "{'Cxcl10', 'Irf1', 'Ifit3', 'Ifng'}\n"
     ]
    }
   ],
   "source": [
    "DEGs = set([\"Irf1\", \"Ccl3\", \"Il12rb1\", \"Ifng\", \"Cxcl10\", \"Ccl4\", \"Hist1h2ah\", \"Iigp2\", \"Ifit3\"]) # list of DEGs\n",
    "IFG = set([\"Irf1\", \"Ifng\", \"Ifit1\", \"Ifit2\", \"Ifit3\", \"Cxcl10\", \"Cxcl9\"]) # genes in interferon gamma pathway \n",
    "commonGenes = DEGs.intersection(IFG)\n",
    "print(commonGenes)"
   ]
  },
  {
   "cell_type": "code",
   "execution_count": 40,
   "metadata": {},
   "outputs": [
    {
     "name": "stdout",
     "output_type": "stream",
     "text": [
      "{'Cxcl10', 'Irf1', 'Ifit3', 'Ifng'}\n"
     ]
    }
   ],
   "source": [
    "print(DEGs & IFG) # same as \"intersection\" using relational operators"
   ]
  },
  {
   "cell_type": "markdown",
   "metadata": {
    "collapsed": true
   },
   "source": [
    "Another popular set operation is the *union*. Suppose we have two sets of differentially expressed genes that we found using two different methods (e.g `edgeR` and `DESeq2`). We want to combine both sets into one which has a unique colletion of gene names appearing *either* in `edgeR` or `DESeq2`"
   ]
  },
  {
   "cell_type": "code",
   "execution_count": 41,
   "metadata": {},
   "outputs": [
    {
     "name": "stdout",
     "output_type": "stream",
     "text": [
      "{'Hist1h2ah', 'Ifit3', 'Iigp2', 'Ccl4', 'Cxcl10', 'Irf1', 'Il12rb1', 'Ccl3', 'Ifng'}\n",
      "{'Hist1h2ah', 'Ifit3', 'Iigp2', 'Ccl4', 'Cxcl10', 'Irf1', 'Il12rb1', 'Ccl3', 'Ifng'}\n"
     ]
    }
   ],
   "source": [
    "edgeR = set([\"Irf1\", \"Ccl3\", \"Il12rb1\", \"Ccl4\", \"Hist1h2ah\", \"Iigp2\", \"Ifit3\"]) # identified by edgeR\n",
    "DESeq2 = set([\"Irf1\", \"Ccl3\", \"Il12rb1\", \"Ifng\", \"Cxcl10\"]) # identified by DESeq2\n",
    "print(edgeR.union(DESeq2))\n",
    "print(edgeR | DESeq2) # using relational operators"
   ]
  },
  {
   "cell_type": "markdown",
   "metadata": {},
   "source": [
    "# Mutable vs immutable objects\n",
    "The container data types we have used so far, `list`, `dict` and `set`, are called *mutable* objects. In a nutshell, *mutable* objects can be *changed* onces they have been defined. For example: "
   ]
  },
  {
   "cell_type": "code",
   "execution_count": 42,
   "metadata": {},
   "outputs": [
    {
     "name": "stdout",
     "output_type": "stream",
     "text": [
      "['Irf2', 'Ccl3', 'Il12rb1']\n"
     ]
    }
   ],
   "source": [
    "genes = [\"Irf1\", \"Ccl3\", \"Il12rb1\"] # list of genes\n",
    "genes[0] = \"Irf2\" # change first gene to Irf2\n",
    "print(genes)"
   ]
  },
  {
   "cell_type": "markdown",
   "metadata": {
    "collapsed": true
   },
   "source": [
    "The rest of the container data types, `tuple` ,`frozenset` and `range` are *immutable* objects; meaning that once assigned they *cannot* be changed.\n",
    "\n",
    "## Tuples: `tuple`\n",
    "Tuples are the immutable equivalent of `list`"
   ]
  },
  {
   "cell_type": "code",
   "execution_count": 43,
   "metadata": {},
   "outputs": [
    {
     "ename": "TypeError",
     "evalue": "'tuple' object does not support item assignment",
     "output_type": "error",
     "traceback": [
      "\u001b[0;31m---------------------------------------------------------------------------\u001b[0m",
      "\u001b[0;31mTypeError\u001b[0m                                 Traceback (most recent call last)",
      "\u001b[0;32m<ipython-input-43-076e14e4c27b>\u001b[0m in \u001b[0;36m<module>\u001b[0;34m()\u001b[0m\n\u001b[1;32m      3\u001b[0m \u001b[0;34m\u001b[0m\u001b[0m\n\u001b[1;32m      4\u001b[0m \u001b[0mgeneList\u001b[0m\u001b[0;34m[\u001b[0m\u001b[0;36m0\u001b[0m\u001b[0;34m]\u001b[0m \u001b[0;34m=\u001b[0m \u001b[0;34m\"Irf2\"\u001b[0m \u001b[0;31m# this is allowed\u001b[0m\u001b[0;34m\u001b[0m\u001b[0m\n\u001b[0;32m----> 5\u001b[0;31m \u001b[0mgeneTuple\u001b[0m\u001b[0;34m[\u001b[0m\u001b[0;36m0\u001b[0m\u001b[0;34m]\u001b[0m \u001b[0;34m=\u001b[0m \u001b[0;34m\"Irf2\"\u001b[0m \u001b[0;31m# this will throw an error\u001b[0m\u001b[0;34m\u001b[0m\u001b[0m\n\u001b[0m",
      "\u001b[0;31mTypeError\u001b[0m: 'tuple' object does not support item assignment"
     ]
    }
   ],
   "source": [
    "geneList = [\"Irf1\", \"Ccl3\", \"Il12rb1\"] # list of genes\n",
    "geneTuple = (\"Irf1\", \"Ccl3\", \"Il12rb1\") # tuple of genes\n",
    "\n",
    "geneList[0] = \"Irf2\" # this is allowed\n",
    "geneTuple[0] = \"Irf2\" # this will throw an error"
   ]
  },
  {
   "cell_type": "markdown",
   "metadata": {
    "collapsed": true
   },
   "source": [
    "Python throws a `TypeError` telling us (as we know) that objects of type tuple cannot be assigned after they have been declared. Note however that we *can* replace an immutable object with a new one. Such operation would destroy the previously declared variable and a new one is created."
   ]
  },
  {
   "cell_type": "code",
   "execution_count": 44,
   "metadata": {
    "collapsed": true
   },
   "outputs": [],
   "source": [
    "geneTuple = (\"Irf1\", \"Ccl3\", \"Il12rb1\") # tuple of genes\n",
    "geneTuple = (\"Irf2\", \"Ccl3\", \"Il12rb1\") # destroy geneTuple and create a new one"
   ]
  },
  {
   "cell_type": "markdown",
   "metadata": {},
   "source": [
    "## Sets: `frozenset`\n",
    "`Frozenset` are the immutable equivalent of `set`"
   ]
  },
  {
   "cell_type": "code",
   "execution_count": 45,
   "metadata": {},
   "outputs": [
    {
     "data": {
      "text/plain": [
       "frozenset"
      ]
     },
     "execution_count": 45,
     "metadata": {},
     "output_type": "execute_result"
    }
   ],
   "source": [
    "languages = frozenset(['Maltese', 'English', 'Italian', 'Spanish']) # languages I can speak(ish)\n",
    "type(languages)"
   ]
  },
  {
   "cell_type": "markdown",
   "metadata": {},
   "source": [
    "## Range: `range`\n",
    "The `range` command creates an immutable sequence of integers. This is typically used in `for loops` which will be introduced in the next lecture.  "
   ]
  },
  {
   "cell_type": "code",
   "execution_count": 46,
   "metadata": {},
   "outputs": [
    {
     "name": "stdout",
     "output_type": "stream",
     "text": [
      "2\n",
      "8\n"
     ]
    }
   ],
   "source": [
    "x = range(2, 10, 2) # create integers from 2 to 10 (not inclusive) in steps of 2\n",
    "print(x[0]) # first number in sequence\n",
    "print(x[-1]) # last number in sequence"
   ]
  },
  {
   "cell_type": "markdown",
   "metadata": {
    "collapsed": true
   },
   "source": [
    "## Exercise 4\n",
    "1. Recreate the mutable container data types examples above\n",
    "2. Recreate the tuple error presented above\n",
    "\n",
    "# Accessing methods of objects\n",
    "A Python variable (of any data type) is called an **object**. Python supports a programming paradigm called object-oriented programming (OOP). Unfortunately in this short introductory workshop we don't have time to introduce this paradigm. Nevertheless, we will be using a central concept in OOP called **methods**. Methods are just functions (which we will introduce in more detail later) that work on objects of a specific type. If you use R or MATLAB, you are familiar with the concept of functions. Methods are the same, but we access them using the `'.'` notation and these methods are *only* defined for the object of that type.\n",
    "\n",
    "For example suppose we have a string (e.g a gene name) that we want to convert to upper case. In R or MATLAB you would write a function called `upper( )` and apply  it to the gene name, e.g `upper(geneName)`. In Python objects of type `str` already have a list of pre-defined *methods* that we can apply using the `'.'` notation, `.upper( )` is one such method:"
   ]
  },
  {
   "cell_type": "code",
   "execution_count": 47,
   "metadata": {},
   "outputs": [
    {
     "data": {
      "text/plain": [
       "'IRF1'"
      ]
     },
     "execution_count": 47,
     "metadata": {},
     "output_type": "execute_result"
    }
   ],
   "source": [
    "geneName = \"Irf1\"\n",
    "geneName.upper() # equivalent to upper(geneName) in R/MATLAB"
   ]
  },
  {
   "cell_type": "markdown",
   "metadata": {},
   "source": [
    "**Avoid writing functions if a method already exists that does what you want** (methods are optimised so will be be faster than writing your own custom function)"
   ]
  }
 ],
 "metadata": {
  "kernelspec": {
   "display_name": "Python 3",
   "language": "python",
   "name": "python3"
  },
  "language_info": {
   "codemirror_mode": {
    "name": "ipython",
    "version": 3
   },
   "file_extension": ".py",
   "mimetype": "text/x-python",
   "name": "python",
   "nbconvert_exporter": "python",
   "pygments_lexer": "ipython3",
   "version": "3.6.0"
  }
 },
 "nbformat": 4,
 "nbformat_minor": 2
}
