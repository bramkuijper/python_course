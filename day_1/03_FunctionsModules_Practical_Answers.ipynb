{
 "cells": [
  {
   "cell_type": "markdown",
   "metadata": {},
   "source": [
    "# Python for Scientific Research\n",
    "# Functions & modules\n",
    "# Answers to exercises\n",
    "\n",
    "## February 2020"
   ]
  },
  {
   "cell_type": "markdown",
   "metadata": {},
   "source": [
    "## Exercise 1\n",
    "### Exercise 1.1\n",
    "1. Reproduce the `find_motif()` function presented in the lecture. Make sure you understand every statement in that code. Use the `help()` function to display the documentation string"
   ]
  },
  {
   "cell_type": "code",
   "execution_count": 18,
   "metadata": {},
   "outputs": [],
   "source": [
    "def find_motif(DNA, motif=\"gaatca\"):\n",
    "    \"\"\"\n",
    "    Finds a motif within a DNA sequence and returns a list of start indices\n",
    "    \n",
    "    Parameters\n",
    "    ----------\n",
    "    DNA : str\n",
    "        A string containing the DNA sequence to be searched\n",
    "    motif : str, optional\n",
    "        The motif to be found in the DNA sequence\n",
    "\n",
    "    Returns\n",
    "    -------\n",
    "    A list of indices highlighting the start of the motif in the DNA sequence\n",
    "\n",
    "    \"\"\"\n",
    "    index = 0 # set initial index at the start of the string\n",
    "    indices = [] # initialize empty list to store any successful finds of motifs\n",
    "    while index != -1:  # go on as long as DNA.find does not return a -1 (i.e., no motifs in remainder of DNA)\n",
    "        index = DNA.find(motif, index) # find the motif\n",
    "        \n",
    "        if index != -1: # successful find of motif \n",
    "            indices.append(index) # add position at which motif was found to list of starting indices \n",
    "            index += 1 # update index used by DNA.find() to the next position, otherwise same p\n",
    "    \n",
    "    return(indices)"
   ]
  },
  {
   "cell_type": "markdown",
   "metadata": {},
   "source": [
    "Now use the help function to display the documentation string we wrote:"
   ]
  },
  {
   "cell_type": "code",
   "execution_count": 24,
   "metadata": {},
   "outputs": [
    {
     "name": "stdout",
     "output_type": "stream",
     "text": [
      "Help on function find_motif in module __main__:\n",
      "\n",
      "find_motif(DNA, motif='gaatca')\n",
      "    Finds a motif within a DNA sequence and returns a list of start indices\n",
      "    \n",
      "    Parameters\n",
      "    ----------\n",
      "    DNA : str\n",
      "        A string containing the DNA sequence to be searched\n",
      "    motif : str, optional\n",
      "        The motif to be found in the DNA sequence\n",
      "    \n",
      "    Returns\n",
      "    -------\n",
      "    A list of indices highlighting the start of the motif in the DNA sequence\n",
      "\n"
     ]
    }
   ],
   "source": [
    "help(find_motif)"
   ]
  },
  {
   "cell_type": "markdown",
   "metadata": {},
   "source": [
    "### Exercise 1.2\n",
    "\n",
    "2. Play around with different values for `motif` and call the function by:\n",
    "    * argument order/position\n",
    "    * argument keyword\n",
    "    * using default arguments"
   ]
  },
  {
   "cell_type": "markdown",
   "metadata": {},
   "source": [
    "Example using a sequence that does not contain the default motif"
   ]
  },
  {
   "cell_type": "code",
   "execution_count": 25,
   "metadata": {},
   "outputs": [
    {
     "name": "stdout",
     "output_type": "stream",
     "text": [
      "[]\n"
     ]
    }
   ],
   "source": [
    "focalDNA=\"aaagggaggggggaggagag\"\n",
    "indicesDefaultMotif = find_motif(DNA=focalDNA)\n",
    "print(indicesDefaultMotif) # returns empty list as the default motif is not present in the focalDNA string"
   ]
  },
  {
   "cell_type": "markdown",
   "metadata": {},
   "source": [
    "Now use a custom motif and print the indices:"
   ]
  },
  {
   "cell_type": "code",
   "execution_count": 26,
   "metadata": {},
   "outputs": [
    {
     "name": "stdout",
     "output_type": "stream",
     "text": [
      "[3, 4, 7, 8, 9, 10, 11, 14]\n"
     ]
    }
   ],
   "source": [
    "focalDNA=\"aaagggaggggggaggagag\"\n",
    "motif1 = \"gg\"\n",
    "indicesGG = find_motif(DNA=focalDNA,motif=motif1)\n",
    "print(indicesGG)"
   ]
  },
  {
   "cell_type": "markdown",
   "metadata": {},
   "source": [
    "Same, but then different order of arguments when we call `text_motif()`. As long as one identifies arguments by argument keyword, order of arguments does not matter:"
   ]
  },
  {
   "cell_type": "code",
   "execution_count": 28,
   "metadata": {},
   "outputs": [
    {
     "name": "stdout",
     "output_type": "stream",
     "text": [
      "[3, 4, 7, 8, 9, 10, 11, 14]\n"
     ]
    }
   ],
   "source": [
    "focalDNA=\"aaagggaggggggaggagag\"\n",
    "motif1 = \"gg\"\n",
    "indicesGG = find_motif(motif=motif1,DNA=focalDNA)\n",
    "print(indicesGG)"
   ]
  },
  {
   "cell_type": "markdown",
   "metadata": {},
   "source": [
    "What happens if we call function with no argument at all?"
   ]
  },
  {
   "cell_type": "code",
   "execution_count": 31,
   "metadata": {},
   "outputs": [
    {
     "ename": "TypeError",
     "evalue": "find_motif() missing 1 required positional argument: 'DNA'",
     "output_type": "error",
     "traceback": [
      "\u001b[0;31m---------------------------------------------------------------------------\u001b[0m",
      "\u001b[0;31mTypeError\u001b[0m                                 Traceback (most recent call last)",
      "\u001b[0;32m<ipython-input-31-393ebea0ef86>\u001b[0m in \u001b[0;36m<module>\u001b[0;34m\u001b[0m\n\u001b[0;32m----> 1\u001b[0;31m \u001b[0mfind_motif\u001b[0m\u001b[0;34m(\u001b[0m\u001b[0;34m)\u001b[0m\u001b[0;34m\u001b[0m\u001b[0;34m\u001b[0m\u001b[0m\n\u001b[0m",
      "\u001b[0;31mTypeError\u001b[0m: find_motif() missing 1 required positional argument: 'DNA'"
     ]
    }
   ],
   "source": [
    "find_motif()"
   ]
  },
  {
   "cell_type": "markdown",
   "metadata": {},
   "source": [
    "Python complains about the lacking argument for the parameter `DNA`, but not about the argument `motif` as a default is provided."
   ]
  },
  {
   "cell_type": "markdown",
   "metadata": {},
   "source": [
    "### Exercise 1.3\n",
    "For the biologists amongst you, write a function to return the complement of a DNA sequence. That is, if the input is `\"acgt\"` the function returns `\"tgca\"`. Similarly return the reverse complement of a DNA sequence.\n",
    "\n",
    "**Hint 1**: Use a dictionary to specify which character is swapped with what:\n",
    "\n",
    "`compDict = {'a': 't', 'c': 'g', 'g': 'c', 't': 'a'} # i.e 'c' should be swapped with 'g' etc.`\n",
    "\n",
    "Then use a list comprehension to loop through each character in your string and convert to its complement using the dictionary.\n",
    "\n",
    "**Hint 2**: To reverse a string/list use the slice operator `[::-1]`"
   ]
  },
  {
   "cell_type": "code",
   "execution_count": 39,
   "metadata": {},
   "outputs": [],
   "source": [
    "def DNA_complement1(sequence):\n",
    "    compDict = {\"a\":\"t\",\"c\":\"g\",\"g\":\"c\",\"t\":\"a\"}\n",
    "    \n",
    "    newseq = [ compDict[x] for x in sequence]\n",
    "    \n",
    "    return(\"\".join(newseq))\n",
    "\n",
    "def DNA_complement2(sequence):\n",
    "    return(sequence[::-1])"
   ]
  },
  {
   "cell_type": "code",
   "execution_count": 41,
   "metadata": {},
   "outputs": [
    {
     "data": {
      "text/plain": [
       "'tgca'"
      ]
     },
     "execution_count": 41,
     "metadata": {},
     "output_type": "execute_result"
    }
   ],
   "source": [
    "DNA_complement1(\"acgt\")"
   ]
  },
  {
   "cell_type": "code",
   "execution_count": 42,
   "metadata": {},
   "outputs": [
    {
     "data": {
      "text/plain": [
       "'tgca'"
      ]
     },
     "execution_count": 42,
     "metadata": {},
     "output_type": "execute_result"
    }
   ],
   "source": [
    "DNA_complement2(\"acgt\")"
   ]
  },
  {
   "cell_type": "markdown",
   "metadata": {},
   "source": [
    "## Exercise 2\n",
    "\n",
    "### Exercise 2.1\n",
    "Consider the following two-dimensional list of sequences: `sequences_2d = [[\"ccggattc\",\"ggggta\",\"ggc\"],[\"aat\",\"agcgaccc\"],[\"ggccccaaa\"]]`. Write a function called `append_seq` that accepts a two-dimensional list of DNA sequences (for now, we can assume that the list is indeed 2-dimensional and contains sequences). It then adds a user-specified sequence, say `\"ggtttaa\"`, to the front of each individual sequence. The function then returns the updated two-dimensional list of sequences to the variable `sequences_2d_new`. \n",
    "\n",
    "I will show four attempts, where only the last two attempts are successful:"
   ]
  },
  {
   "cell_type": "markdown",
   "metadata": {},
   "source": [
    "#### First attempt:"
   ]
  },
  {
   "cell_type": "code",
   "execution_count": 59,
   "metadata": {},
   "outputs": [
    {
     "name": "stdout",
     "output_type": "stream",
     "text": [
      "[['ccggattc', 'ggggta', 'ggc'], ['aat', 'agcgaccc'], ['ggccccaaa']]\n",
      "[['ccggattc', 'ggggta', 'ggc'], ['aat', 'agcgaccc'], ['ggccccaaa']]\n"
     ]
    }
   ],
   "source": [
    "def append_seq1(list2d, z=\"ggtttaa\"):\n",
    "    \"\"\"\n",
    "    Adds a sequence z to each element within a 2d list of sequences,\n",
    "    contained in list2d\n",
    "\n",
    "    Parameters\n",
    "    ----------\n",
    "    list2d : list\n",
    "        two-dimensional list with sequences.\n",
    "    z : str, optional\n",
    "        sequence to add to the front of each sequence. The default is \"ggtttaa\".\n",
    "\n",
    "    Returns\n",
    "    -------\n",
    "    two dimensional list with updated sequences.\n",
    "\n",
    "    \"\"\"\n",
    "    \n",
    "    # outer loop going through rows of the 2d list\n",
    "    for row in list2d:\n",
    "        # inner loop going through the columns within each row\n",
    "        for col in row:\n",
    "            # 'update' value of the individual elements\n",
    "            col = z + col\n",
    "                        \n",
    "    return(list2d)\n",
    "            \n",
    "sequences_2d = [[\"ccggattc\",\"ggggta\",\"ggc\"],[\"aat\",\"agcgaccc\"],[\"ggccccaaa\"]]        \n",
    "sequences_2d_new = append_seq1(sequences_2d)\n",
    "print(sequences_2d)\n",
    "print(sequences_2d_new)"
   ]
  },
  {
   "cell_type": "markdown",
   "metadata": {},
   "source": [
    "#### Nothing happened: what is going on?\n",
    "Nothing eventually happens within the function `append_seq1`. Within the statement `for col in row`, `col` is being assigned *a reference* to the values of the individual elements within `list2d`, as in any copying operation of a single-dimensional variable (see lecture on data types). \n",
    "\n",
    "As `col` is a single-dimensional variable, once one assigns a new value to `col` (namely `z + col`), the variable `col` now gets a new reference to a register that contains that new value. By contrast, the original reference in `list2d` is left untouched.\n",
    "\n",
    "In order to really make changes to the elements of `list2d`, making copies of these individual elements (like we did above) does not suffice. Rather, we might want to assign things directly to the elements of `list2d` themselves, by using two-dimensional index operators, e.g., `list2d[row_idx][col_idx] = ...` where `row_idx` and `col_idx` are index numbers of the rows and columns of our two-dimensional list respectively. This is what we will do in the second attempt. As we will see below, however, also this method this is still far from perfect, because directly updating list elements introduces other problems."
   ]
  },
  {
   "cell_type": "markdown",
   "metadata": {},
   "source": [
    "#### Second attempt (still not perfect):"
   ]
  },
  {
   "cell_type": "code",
   "execution_count": 60,
   "metadata": {},
   "outputs": [
    {
     "name": "stdout",
     "output_type": "stream",
     "text": [
      "[['ggtttaaccggattc', 'ggtttaaggggta', 'ggtttaaggc'], ['ggtttaaaat', 'ggtttaaagcgaccc'], ['ggtttaaggccccaaa']]\n",
      "[['ggtttaaccggattc', 'ggtttaaggggta', 'ggtttaaggc'], ['ggtttaaaat', 'ggtttaaagcgaccc'], ['ggtttaaggccccaaa']]\n"
     ]
    }
   ],
   "source": [
    "def append_seq2(list2d, z=\"ggtttaa\"):\n",
    "    \"\"\"\n",
    "    Adds a sequence z to each element within a 2d list of sequences,\n",
    "    contained in list2d\n",
    "\n",
    "    Parameters\n",
    "    ----------\n",
    "    list2d : list\n",
    "        two-dimensional list with sequences.\n",
    "    z : str, optional\n",
    "        sequence to add to the front of each sequence. The default is \"ggtttaa\".\n",
    "\n",
    "    Returns\n",
    "    -------\n",
    "    two dimensional list with updated sequences.\n",
    "\n",
    "    \"\"\"\n",
    "    \n",
    "    # outer loop going through rows of the 2d list, but now we\n",
    "    # use enumerate() to\n",
    "    # keep track of the index in the original list\n",
    "    # so that we can directly access individual list elements\n",
    "    for row_idx, row in enumerate(list2d):\n",
    "        # inner loop going through the columns within each row, again using enumerate()\n",
    "        # so that we retain indices of the columns in col_idx\n",
    "        for col_idx, col in enumerate(row):\n",
    "            # update the value of the individual elements\n",
    "            list2d[row_idx][col_idx] = z + col\n",
    "                        \n",
    "    return(list2d)\n",
    "            \n",
    "sequences_2d = [[\"ccggattc\",\"ggggta\",\"ggc\"],[\"aat\",\"agcgaccc\"],[\"ggccccaaa\"]]        \n",
    "sequences_2d_new = append_seq2(sequences_2d)\n",
    "print(sequences_2d)\n",
    "print(sequences_2d_new)"
   ]
  },
  {
   "cell_type": "markdown",
   "metadata": {},
   "source": [
    "#### Woah, the values of `sequences_2d` and `sequences_2d_new` are the same! What happened?!\n",
    "\n",
    "Now we work directly with the elements of `list2d` rather than with a copy of these elements, so indeed changes to the individual elements are carried through. The problem is that `list2d[row_idx][col_idx]` also affects the original copy of the list. When the function `append_seq2()` starts, the parameter `list2d` gets assigned the same reference to the list that is contained in `sequence_2d`. Following the lecture notes from the lecture on data types, assigning new values to the *elements* of the list pointed to by `list2d` changes the elements of all the copies of that list, unless we make a deep copy. This is what we will do in our next example."
   ]
  },
  {
   "cell_type": "markdown",
   "metadata": {},
   "source": [
    "\n",
    "\n",
    "2. After you have called `append_seq`, inspect the value of the original two-dimensional list `sequences_2d`. Does it differ from `sequences_2d_new`? Why/why not?\n",
    "\n",
    "3. Extend the function with code that checks whether the list is indeed two-dimensional (do not bother yet with checking whether the strings of text are indeed sequences, we will do this later). If the list is not two-dimensional, print an error message and return `None`."
   ]
  }
 ],
 "metadata": {
  "kernelspec": {
   "display_name": "Python 3",
   "language": "python",
   "name": "python3"
  },
  "language_info": {
   "codemirror_mode": {
    "name": "ipython",
    "version": 3
   },
   "file_extension": ".py",
   "mimetype": "text/x-python",
   "name": "python",
   "nbconvert_exporter": "python",
   "pygments_lexer": "ipython3",
   "version": "3.7.3"
  }
 },
 "nbformat": 4,
 "nbformat_minor": 4
}
