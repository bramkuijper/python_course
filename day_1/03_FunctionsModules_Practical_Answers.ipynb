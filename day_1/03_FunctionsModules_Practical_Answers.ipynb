{
 "cells": [
  {
   "cell_type": "markdown",
   "metadata": {},
   "source": [
    "# Python for Scientific Research\n",
    "# Functions & modules\n",
    "# Answers to exercises\n",
    "\n",
    "## February 2020"
   ]
  },
  {
   "cell_type": "markdown",
   "metadata": {},
   "source": [
    "## Exercise 1\n",
    "1. Reproduce the `find_motif()` function presented in the lecture. Make sure you understand every statement in that code. Use the `help()` function to display the documentation string"
   ]
  },
  {
   "cell_type": "code",
   "execution_count": 1,
   "metadata": {},
   "outputs": [],
   "source": [
    "def find_motif(DNA, motif=\"gaatca\"):\n",
    "    \"\"\"\n",
    "    Finds a motif within a DNA sequence and returns a list of start indices\n",
    "    \n",
    "    Parameters\n",
    "    ----------\n",
    "    DNA : str\n",
    "        A string containing the DNA sequence to be searched\n",
    "    motif : str, optional\n",
    "        The motif to be found in the DNA sequence\n",
    "\n",
    "    Returns\n",
    "    -------\n",
    "    A list of indices highlighting the start of the motif in the DNA sequence\n",
    "\n",
    "    \"\"\"\n",
    "    index = 0 # set initial index at the start of the string\n",
    "    indices = [] # initialize empty list to store any successful finds of motifs\n",
    "    while index != -1:  # go on as long as DNA.find does not return a -1 (i.e., no motifs in remainder of DNA)\n",
    "        index = DNA.find(motif, index) # find the motif\n",
    "        \n",
    "        if index != -1: # successful find of motif \n",
    "            indices.append(index) # add position at which motif was found to list of starting indices \n",
    "            index += 1 # update index used by DNA.find() to the next position, otherwise same p\n",
    "    \n",
    "    return(indices)"
   ]
  },
  {
   "cell_type": "code",
   "execution_count": 7,
   "metadata": {},
   "outputs": [
    {
     "name": "stdout",
     "output_type": "stream",
     "text": [
      "[]\n"
     ]
    }
   ],
   "source": [
    "focalDNA=\"aaagggaggggggaggagag\"\n",
    "indicesDefaultMotif = find_motif(DNA=focalDNA)\n",
    "print(indicesDefaultMotif) # returns empty list as the default motif is not present in the focalDNA string"
   ]
  },
  {
   "cell_type": "markdown",
   "metadata": {},
   "source": [
    "Now use a custom motif and print the indices:"
   ]
  },
  {
   "cell_type": "code",
   "execution_count": 11,
   "metadata": {},
   "outputs": [
    {
     "name": "stdout",
     "output_type": "stream",
     "text": [
      "[3, 4, 7, 8, 9, 10, 11, 14]\n"
     ]
    }
   ],
   "source": [
    "focalDNA=\"aaagggaggggggaggagag\"\n",
    "motif1 = \"gg\"\n",
    "indicesGG = find_motif(DNA=focalDNA,motif=motif1)\n",
    "print(indicesGG)"
   ]
  },
  {
   "cell_type": "markdown",
   "metadata": {},
   "source": [
    "Now use the help function to display the documentation string we wrote:"
   ]
  },
  {
   "cell_type": "code",
   "execution_count": 12,
   "metadata": {},
   "outputs": [
    {
     "name": "stdout",
     "output_type": "stream",
     "text": [
      "Help on function find_motif in module __main__:\n",
      "\n",
      "find_motif(DNA, motif='gaatca')\n",
      "    Finds a motif within a DNA sequence and returns a list of start indices\n",
      "    \n",
      "    Parameters\n",
      "    ----------\n",
      "    DNA : str\n",
      "        A string containing the DNA sequence to be searched\n",
      "    motif : str, optional\n",
      "        The motif to be found in the DNA sequence\n",
      "    \n",
      "    Returns\n",
      "    -------\n",
      "    A list of indices highlighting the start of the motif in the DNA sequence\n",
      "\n"
     ]
    }
   ],
   "source": [
    "help(find_motif)"
   ]
  },
  {
   "cell_type": "markdown",
   "metadata": {},
   "source": [
    "### Exercise 1.2\n",
    "\n",
    "2. Play around with different values for `motif` and call the function by:\n",
    "    * argument order/position\n",
    "    * argument keyword\n",
    "    * using default arguments"
   ]
  },
  {
   "cell_type": "markdown",
   "metadata": {},
   "source": [
    "Setting a default value can only be done by defining the function again:"
   ]
  },
  {
   "cell_type": "code",
   "execution_count": 17,
   "metadata": {},
   "outputs": [],
   "source": [
    "def find_motif(DNA, motif=\"gaa\"):\n",
    "    \"\"\"\n",
    "    Finds a motif within a DNA sequence and returns a list of start indices\n",
    "    \n",
    "    Parameters\n",
    "    ----------\n",
    "    DNA : str\n",
    "        A string containing the DNA sequence to be searched\n",
    "    motif : str, optional\n",
    "        The motif to be found in the DNA sequence\n",
    "\n",
    "    Returns\n",
    "    -------\n",
    "    A list of indices highlighting the start of the motif in the DNA sequence\n",
    "\n",
    "    \"\"\"\n",
    "    index = 0 # set initial index at the start of the string\n",
    "    indices = [] # initialize empty list to store any successful finds of motifs\n",
    "    while index != -1:  # go on as long as DNA.find does not return a -1 (i.e., no motifs in remainder of DNA)\n",
    "        index = DNA.find(motif, index) # find the motif\n",
    "        \n",
    "        if index != -1: # successful find of motif \n",
    "            indices.append(index) # add position at which motif was found to list of starting indices \n",
    "            index += 1 # update index used by DNA.find() to the next position, otherwise same p\n",
    "    \n",
    "    return(indices)"
   ]
  },
  {
   "cell_type": "markdown",
   "metadata": {},
   "source": [
    "Play around with argument order / position:"
   ]
  },
  {
   "cell_type": "code",
   "execution_count": null,
   "metadata": {},
   "outputs": [],
   "source": [
    "find_motif()"
   ]
  },
  {
   "cell_type": "code",
   "execution_count": null,
   "metadata": {},
   "outputs": [],
   "source": [
    "\n",
    "\n",
    "3. For the biologists amongst you, write a function to return the complement of a DNA sequence. That is, if the input is `\"acgt\"` the function returns `\"tgca\"`. Similarly return the reverse complement of a DNA sequence.\n",
    "\n",
    "**Hint 1**: Use a dictionary to specify which character is swapped with what:\n",
    "\n",
    "`compDict = {'a': 't', 'c': 'g', 'g': 'c', 't': 'a'} # i.e 'c' should be swapped with 'g' etc.`\n",
    "\n",
    "Then use a list comprehension to loop through each character in your string and convert to its complement using the dictionary.\n",
    "\n",
    "**Hint 2**: To reverse a string/list use the slice operator `[::-1]`"
   ]
  }
 ],
 "metadata": {
  "kernelspec": {
   "display_name": "Python 3",
   "language": "python",
   "name": "python3"
  },
  "language_info": {
   "codemirror_mode": {
    "name": "ipython",
    "version": 3
   },
   "file_extension": ".py",
   "mimetype": "text/x-python",
   "name": "python",
   "nbconvert_exporter": "python",
   "pygments_lexer": "ipython3",
   "version": "3.7.3"
  }
 },
 "nbformat": 4,
 "nbformat_minor": 4
}
