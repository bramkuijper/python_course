{
 "cells": [
  {
   "cell_type": "markdown",
   "metadata": {},
   "source": [
    "# Python for Scientific Research\n",
    "# Built-in data types\n",
    "# Answers to exercises"
   ]
  },
  {
   "cell_type": "markdown",
   "metadata": {},
   "source": [
    "## Exercise 1"
   ]
  },
  {
   "cell_type": "markdown",
   "metadata": {},
   "source": [
    "### 1. Use the `**`, `>` (or `<`) and `-` operators to show that `0.707` squared minus `0.5` is smaller than zero. The resulting value should be a `Boolean`"
   ]
  },
  {
   "cell_type": "code",
   "execution_count": 61,
   "metadata": {},
   "outputs": [
    {
     "data": {
      "text/plain": [
       "True"
      ]
     },
     "execution_count": 61,
     "metadata": {},
     "output_type": "execute_result"
    }
   ],
   "source": [
    "0.707**2 - 0.5  < 0"
   ]
  },
  {
   "cell_type": "markdown",
   "metadata": {},
   "source": [
    "2. What logical operators would you use to obtain the third column of the following truth table? And what logical operators would you use to obtain the fourth column?\n",
    "\n",
    "\n",
    "| `a` |  `b` | `??` | `??` |\n",
    "|:-----------|:----------|:----------|:----------|\n",
    "| `True` |`True` |`True`| `True`|\n",
    "| `True` |`False` |`True`| `False`|\n",
    "| `False` |`True` |`True`| `False` |\n",
    "| `False` |`False` |`False`| `False` |"
   ]
  },
  {
   "cell_type": "markdown",
   "metadata": {},
   "source": [
    "Answer:\n",
    "\n",
    "| `a` |  `b` | `a or b` | `a and b` |\n",
    "|:-----------|:----------|:----------|:----------|\n",
    "| `True` |`True` |`True`| `True`|\n",
    "| `True` |`False` |`True`| `False`|\n",
    "| `False` |`True` |`True`| `False` |\n",
    "| `False` |`False` |`False`| `False` |"
   ]
  },
  {
   "cell_type": "markdown",
   "metadata": {},
   "source": [
    "## Exercise 2\n",
    "\n",
    "(see the corrected truth table in the accompanying text of the original practical worksheet).\n",
    "\n",
    "Does it matter whether you write `a or b or c` versus `a or (b or c)`? Write out a truth table."
   ]
  },
  {
   "cell_type": "markdown",
   "metadata": {},
   "source": [
    "Answer: no it does not matter. See the truth table below.\n",
    "\n",
    "| `a` | `b` | `c` | `a or b` | `b or c` | `a or b or c` aka `(a or b) or c` | `a or (b or c)` |\n",
    ":-----------|:----------|:----------|:-----------|:----------|:----------|:----------|\n",
    "| `True` | `True` | `True` | `True`| `True` | `True` | `True` |\n",
    "| `True` | `True` | `False` | `True`| `True` | `True` | `True` |\n",
    "| `True` | `False` | `True` | `True` | `True` | `True` | `True` |\n",
    "| `True` | `False` | `False` | `True` | `False` | `True` | `True` |\n",
    "| `False` | `True` | `True` | `True` | `True` | `True` | `True` |\n",
    "| `False` | `True` | `False` | `True` | `True` | `True` | `True` |\n",
    "| `False` | `False` | `True` | `False` | `True` | `True` | `True` |\n",
    "| `False` | `False` | `False` | `False` | `False` | `False` | `False` |"
   ]
  },
  {
   "cell_type": "markdown",
   "metadata": {},
   "source": [
    "## Exercise 3"
   ]
  },
  {
   "cell_type": "markdown",
   "metadata": {},
   "source": [
    "### 3.1 Create a few strings using single, double and triple quotes and experiment with the arithmetic operators `+` and `*`"
   ]
  },
  {
   "cell_type": "code",
   "execution_count": 62,
   "metadata": {},
   "outputs": [
    {
     "name": "stdout",
     "output_type": "stream",
     "text": [
      "single quoted string\n",
      "double quoted string\n",
      "This is a triple quoted string\n",
      "It can include line breaks, awesome.\n",
      "\n",
      "now some strings repeated using the * operator:\n",
      "This is a triple quoted string\n",
      "It can include line breaks, awesome.\n",
      "This is a triple quoted string\n",
      "It can include line breaks, awesome.\n",
      "This is a triple quoted string\n",
      "It can include line breaks, awesome.\n",
      "\n",
      "concatenate strings:\n",
      "single quoted stringdouble quoted stringThis is a triple quoted string\n",
      "It can include line breaks, awesome.\n",
      "\n"
     ]
    }
   ],
   "source": [
    "a = 'single quoted string'\n",
    "b = \"double quoted string\"\n",
    "c = \"\"\"This is a triple quoted string\n",
    "It can include line breaks, awesome.\n",
    "\"\"\"\n",
    "print(a)\n",
    "print(b)\n",
    "print(c)\n",
    "print(\"now some strings repeated using the * operator:\")\n",
    "print(c*3)\n",
    "print(\"concatenate strings:\")\n",
    "print(a + b + c)"
   ]
  },
  {
   "cell_type": "markdown",
   "metadata": {},
   "source": [
    "### 3.2 Use the created strings to perform relational operations on them"
   ]
  },
  {
   "cell_type": "code",
   "execution_count": 63,
   "metadata": {},
   "outputs": [
    {
     "data": {
      "text/plain": [
       "False"
      ]
     },
     "execution_count": 63,
     "metadata": {},
     "output_type": "execute_result"
    }
   ],
   "source": [
    "a == b"
   ]
  },
  {
   "cell_type": "markdown",
   "metadata": {},
   "source": [
    "Relational operations on strings are based on so-called **lexographical ordering**: first the first two characters are compared, and if they differ this determines the outcome of the comparison; if they are equal, the next two characters are compared, and so on, until either sequence is exhausted. See point 5.8 in the [docs](https://docs.python.org/3/tutorial/datastructures.html#comparing-sequences-and-other-types) for a description of lexographical ordering. \n",
    "\n",
    "To give an example, let us compare the two strings of text `b` and `a` by using `b > a`:"
   ]
  },
  {
   "cell_type": "code",
   "execution_count": 64,
   "metadata": {},
   "outputs": [
    {
     "data": {
      "text/plain": [
       "False"
      ]
     },
     "execution_count": 64,
     "metadata": {},
     "output_type": "execute_result"
    }
   ],
   "source": [
    "b > a"
   ]
  },
  {
   "cell_type": "markdown",
   "metadata": {},
   "source": [
    "This evaluates to `False` as the first character in `a` is `'s'`, while the first character in `b` is `'d'`. Because `'s'` occurs later in the alphabet than `'d'` we have `'s' > 'd'`"
   ]
  },
  {
   "cell_type": "markdown",
   "metadata": {},
   "source": [
    "### 3.3 Create a long string and use the *slicing* operators to access different sets of characters"
   ]
  },
  {
   "cell_type": "code",
   "execution_count": 65,
   "metadata": {},
   "outputs": [
    {
     "name": "stdout",
     "output_type": "stream",
     "text": [
      "woh\n",
      "haaaaaaahooooohaaaa\n"
     ]
    }
   ],
   "source": [
    "loongString = \"waaaaahooooohaaaaaaah\"\n",
    "print(loongString[0::10])\n",
    "print(loongString[-1:-20:-1])"
   ]
  },
  {
   "cell_type": "markdown",
   "metadata": {},
   "source": [
    "### 3.4 Slice the string `Slicing is rather useful` in such a way that you obtain the string `useful`"
   ]
  },
  {
   "cell_type": "code",
   "execution_count": 66,
   "metadata": {},
   "outputs": [
    {
     "data": {
      "text/plain": [
       "'useful'"
      ]
     },
     "execution_count": 66,
     "metadata": {},
     "output_type": "execute_result"
    }
   ],
   "source": [
    "sl = \"Slicing is rather useful\"\n",
    "sl[-6:]"
   ]
  },
  {
   "cell_type": "markdown",
   "metadata": {},
   "source": [
    "### 3.5 Slice the string `Slicing is rather useful` in such a way that you obtain the string `eu`\n",
    "\n",
    "There are several options here:"
   ]
  },
  {
   "cell_type": "code",
   "execution_count": 67,
   "metadata": {},
   "outputs": [
    {
     "data": {
      "text/plain": [
       "'eu'"
      ]
     },
     "execution_count": 67,
     "metadata": {},
     "output_type": "execute_result"
    }
   ],
   "source": [
    "sl[15:19:3]"
   ]
  },
  {
   "cell_type": "code",
   "execution_count": 68,
   "metadata": {},
   "outputs": [
    {
     "data": {
      "text/plain": [
       "'eu'"
      ]
     },
     "execution_count": 68,
     "metadata": {},
     "output_type": "execute_result"
    }
   ],
   "source": [
    "sl[15::7]"
   ]
  },
  {
   "cell_type": "code",
   "execution_count": 49,
   "metadata": {},
   "outputs": [
    {
     "data": {
      "text/plain": [
       "'eu'"
      ]
     },
     "execution_count": 49,
     "metadata": {},
     "output_type": "execute_result"
    }
   ],
   "source": [
    "sl[-4:-7:-2]"
   ]
  },
  {
   "cell_type": "markdown",
   "metadata": {},
   "source": [
    "## Exercise 4"
   ]
  },
  {
   "cell_type": "markdown",
   "metadata": {},
   "source": [
    "### 4.1 Create an `integer`, `float` and `string`, place them within a sentence and print to screen"
   ]
  },
  {
   "cell_type": "code",
   "execution_count": 55,
   "metadata": {},
   "outputs": [
    {
     "data": {
      "text/plain": [
       "int"
      ]
     },
     "execution_count": 55,
     "metadata": {},
     "output_type": "execute_result"
    }
   ],
   "source": [
    "var1 = 3\n",
    "type(var1)"
   ]
  },
  {
   "cell_type": "code",
   "execution_count": 56,
   "metadata": {},
   "outputs": [
    {
     "data": {
      "text/plain": [
       "float"
      ]
     },
     "execution_count": 56,
     "metadata": {},
     "output_type": "execute_result"
    }
   ],
   "source": [
    "var2 = 3.910134\n",
    "type(var2)"
   ]
  },
  {
   "cell_type": "code",
   "execution_count": 57,
   "metadata": {},
   "outputs": [
    {
     "data": {
      "text/plain": [
       "str"
      ]
     },
     "execution_count": 57,
     "metadata": {},
     "output_type": "execute_result"
    }
   ],
   "source": [
    "var3 = \"some text\"\n",
    "type(var3)"
   ]
  },
  {
   "cell_type": "code",
   "execution_count": 59,
   "metadata": {},
   "outputs": [
    {
     "name": "stdout",
     "output_type": "stream",
     "text": [
      "We have an integer with value 3, a float with value 3.910134 and a string with value some text\n"
     ]
    }
   ],
   "source": [
    "print(f\"We have an integer with value {var1}, a float with value {var2} and a string with value {var3}\")"
   ]
  },
  {
   "cell_type": "markdown",
   "metadata": {},
   "source": [
    "### 4.2 Create long floats and print them to screen using different decimal places"
   ]
  },
  {
   "cell_type": "code",
   "execution_count": 70,
   "metadata": {},
   "outputs": [],
   "source": [
    "longFloat = 9.3847384798275223553"
   ]
  },
  {
   "cell_type": "code",
   "execution_count": 72,
   "metadata": {},
   "outputs": [
    {
     "name": "stdout",
     "output_type": "stream",
     "text": [
      "Print it with 4 digits: 9.3847 or 10 digits 9.3847384798\n"
     ]
    }
   ],
   "source": [
    "print(f\"Print it with 4 digits: {longFloat:.4f} or 10 digits {longFloat:.10f}\")"
   ]
  },
  {
   "cell_type": "markdown",
   "metadata": {},
   "source": [
    "## Exercise 5"
   ]
  },
  {
   "cell_type": "markdown",
   "metadata": {},
   "source": [
    "### 5.1 Recreate the mutable container data types examples above"
   ]
  },
  {
   "cell_type": "code",
   "execution_count": 74,
   "metadata": {},
   "outputs": [],
   "source": [
    "geneTuple = (\"Irf1\", \"Ccl3\", \"Il12rb1\") # tuple of genes"
   ]
  },
  {
   "cell_type": "markdown",
   "metadata": {},
   "source": [
    "### 5.2 Recreate the tuple error presented above"
   ]
  },
  {
   "cell_type": "code",
   "execution_count": 75,
   "metadata": {},
   "outputs": [
    {
     "ename": "TypeError",
     "evalue": "'tuple' object does not support item assignment",
     "output_type": "error",
     "traceback": [
      "\u001b[0;31m---------------------------------------------------------------------------\u001b[0m",
      "\u001b[0;31mTypeError\u001b[0m                                 Traceback (most recent call last)",
      "\u001b[0;32m<ipython-input-75-ee38dca2fbb9>\u001b[0m in \u001b[0;36m<module>\u001b[0;34m\u001b[0m\n\u001b[0;32m----> 1\u001b[0;31m \u001b[0mgeneTuple\u001b[0m\u001b[0;34m[\u001b[0m\u001b[0;36m0\u001b[0m\u001b[0;34m]\u001b[0m \u001b[0;34m=\u001b[0m \u001b[0;34m\"someGene\"\u001b[0m\u001b[0;34m\u001b[0m\u001b[0;34m\u001b[0m\u001b[0m\n\u001b[0m",
      "\u001b[0;31mTypeError\u001b[0m: 'tuple' object does not support item assignment"
     ]
    }
   ],
   "source": [
    "geneTuple[0] = \"someGene\""
   ]
  },
  {
   "cell_type": "markdown",
   "metadata": {},
   "source": [
    "### 5.3 find the names of the genes which occur either in `edgeR` or in `DESeq2` but not in both."
   ]
  },
  {
   "cell_type": "markdown",
   "metadata": {},
   "source": [
    "Reading the documentation about the methods and operators associated with `set`, we find that the operator `^` gives the symmetric difference: return a new set with elements in either the set or other but not both."
   ]
  },
  {
   "cell_type": "code",
   "execution_count": 76,
   "metadata": {},
   "outputs": [
    {
     "data": {
      "text/plain": [
       "{'Ccl4', 'Cxcl10', 'Hist1h2ah', 'Ifit3', 'Ifng', 'Iigp2'}"
      ]
     },
     "execution_count": 76,
     "metadata": {},
     "output_type": "execute_result"
    }
   ],
   "source": [
    "edgeR = set([\"Irf1\", \"Ccl3\", \"Il12rb1\", \"Ccl4\", \"Hist1h2ah\", \"Iigp2\", \"Ifit3\"]) # identified by edgeR\n",
    "DESeq2 = set([\"Irf1\", \"Ccl3\", \"Il12rb1\", \"Ifng\", \"Cxcl10\"]) # identified by DESeq2\n",
    "edgeR ^ DESeq2"
   ]
  }
 ],
 "metadata": {
  "kernelspec": {
   "display_name": "Python 3",
   "language": "python",
   "name": "python3"
  },
  "language_info": {
   "codemirror_mode": {
    "name": "ipython",
    "version": 3
   },
   "file_extension": ".py",
   "mimetype": "text/x-python",
   "name": "python",
   "nbconvert_exporter": "python",
   "pygments_lexer": "ipython3",
   "version": "3.7.5"
  }
 },
 "nbformat": 4,
 "nbformat_minor": 4
}
