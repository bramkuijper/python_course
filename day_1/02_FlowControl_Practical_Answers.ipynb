{
 "cells": [
  {
   "cell_type": "markdown",
   "metadata": {},
   "source": [
    "# Python for Scientific Research\n",
    "# Flow control\n",
    "# Answers to exercises"
   ]
  },
  {
   "cell_type": "markdown",
   "metadata": {},
   "source": [
    "## Exercise 1\n",
    "\n",
    "Write a script that finds out whether a certain year (e.g., `2004`, `1600` or `51`; contained in a variable `year`) is a leap year. A year is said to be leap year if the year is exactly divisible by 4 but not divisible by 100. Year is also a leap year if it is exactly divisible by 400.\n",
    "\n",
    "If the year is a leap year, the script should print \"The year XXXX is a leap year\", otherwise it should print \"Nope, the year XXXX is not a leap year\".\n",
    "\n",
    "You can assume that the value contained in `year` is a positive integer.\n",
    "\n",
    "The [table on operator precedence](https://docs.python.org/3/reference/expressions.html?highlight=precedence#operator-precedence) may be useful here again."
   ]
  },
  {
   "cell_type": "code",
   "execution_count": 1,
   "metadata": {},
   "outputs": [
    {
     "name": "stdout",
     "output_type": "stream",
     "text": [
      "Nope, the year 1900 is not a leap year.\n"
     ]
    }
   ],
   "source": [
    "year = 1900\n",
    "\n",
    "# note that operator precedence \n",
    "if year % 4 == 0 and year % 100 != 0 or year % 400 == 0:\n",
    "    print(f\"The year {year} is a leap year.\")\n",
    "else:\n",
    "    print(f\"Nope, the year {year} is not a leap year.\")"
   ]
  },
  {
   "cell_type": "markdown",
   "metadata": {},
   "source": [
    "## Exercise 2"
   ]
  },
  {
   "cell_type": "markdown",
   "metadata": {},
   "source": [
    "### 2.1 Loop from 1 to 10 and print out the square of that number "
   ]
  },
  {
   "cell_type": "code",
   "execution_count": 2,
   "metadata": {},
   "outputs": [
    {
     "name": "stdout",
     "output_type": "stream",
     "text": [
      "1\n",
      "4\n",
      "9\n",
      "16\n",
      "25\n",
      "36\n",
      "49\n",
      "64\n",
      "81\n",
      "100\n"
     ]
    }
   ],
   "source": [
    "for i in range(1,11):\n",
    "    print(i**2)"
   ]
  },
  {
   "cell_type": "markdown",
   "metadata": {},
   "source": [
    "### 2.2 GC content of random DNA sequences"
   ]
  },
  {
   "cell_type": "markdown",
   "metadata": {},
   "source": [
    "Create a list of 5 short DNA sequences (e.g `[\"acccgtagcgta\", \"cgaattgccgaa\", ...]`). Loop through this list and for each DNA sequence compute the total numbers of \"g\" and \"c\" basepairs, and subsequently the percentage GC content (i.e., the percentage of basepairs that are guanine or cytosine). Print the information out. "
   ]
  },
  {
   "cell_type": "code",
   "execution_count": 3,
   "metadata": {},
   "outputs": [
    {
     "name": "stdout",
     "output_type": "stream",
     "text": [
      "Sequence acccgtagcgta contains 3 Gs, 4 Cs and its GC content is 0.5833333333333334\n",
      "Sequence cgaattgccgaa contains 3 Gs, 3 Cs and its GC content is 0.5\n",
      "Sequence ggggggg contains 7 Gs, 0 Cs and its GC content is 1.0\n",
      "Sequence cccccccc contains 0 Gs, 8 Cs and its GC content is 1.0\n",
      "Sequence aaaaaaatttttt contains 0 Gs, 0 Cs and its GC content is 0.0\n"
     ]
    }
   ],
   "source": [
    "sequences = [\"acccgtagcgta\",\"cgaattgccgaa\",\"ggggggg\",\"cccccccc\",\"aaaaaaatttttt\"]\n",
    "\n",
    "for seq_i in sequences:\n",
    "    \n",
    "    # get total number of Gs\n",
    "    count_g = seq_i.count(\"g\")\n",
    "    \n",
    "    # get total number of Cs\n",
    "    count_c = seq_i.count(\"c\") \n",
    "    \n",
    "    # calculate total length of the string\n",
    "    total_bp = len(seq_i) \n",
    "    \n",
    "    # calculate GC percentage\n",
    "    gc_percentage = (count_g + count_c)/total_bp \n",
    "    \n",
    "    # print out the information\n",
    "    print(f\"Sequence {seq_i} contains {count_g} Gs, {count_c} Cs and its GC content is {gc_percentage}\")"
   ]
  },
  {
   "cell_type": "markdown",
   "metadata": {},
   "source": [
    "## Exercise 3\n",
    "### Exercise 3.1\n",
    "Using list comprehensions, populate a list with the square of numbers from 1 to 10 (i.e 1, 4, 9, etc.)"
   ]
  },
  {
   "cell_type": "code",
   "execution_count": 4,
   "metadata": {},
   "outputs": [
    {
     "name": "stdout",
     "output_type": "stream",
     "text": [
      "[1, 4, 9, 16, 25, 36, 49, 64, 81, 100]\n"
     ]
    }
   ],
   "source": [
    "squares = [i**2 for i in range(1,11)]\n",
    "print(squares)"
   ]
  },
  {
   "cell_type": "markdown",
   "metadata": {},
   "source": [
    "### Exercise 3.2\n",
    "Using list comprehensions, populate a list, elements of which are tuples (i,j,k) where i is a number from 1 to 10 and j is its square,while k is its square root"
   ]
  },
  {
   "cell_type": "code",
   "execution_count": 5,
   "metadata": {},
   "outputs": [
    {
     "name": "stdout",
     "output_type": "stream",
     "text": [
      "[(1, 1, 1.0), (2, 4, 1.4142135623730951), (3, 9, 1.7320508075688772), (4, 16, 2.0), (5, 25, 2.23606797749979), (6, 36, 2.449489742783178), (7, 49, 2.6457513110645907), (8, 64, 2.8284271247461903), (9, 81, 3.0), (10, 100, 3.1622776601683795)]\n"
     ]
    }
   ],
   "source": [
    "numberCollection = [(i,i**2,i**0.5) for i in range(1,11)]\n",
    "print(numberCollection)"
   ]
  },
  {
   "cell_type": "markdown",
   "metadata": {},
   "source": [
    "### Exercise 3.3\n",
    "Subsequently, use a separate loop to print out the contents of each tuple as follows:  \n",
    "\"The square of 1 is 1 while its square root is 1.0\"  \n",
    "\"The square of 2 is 4 while its square root is 1.414214\"  \n",
    "etcetera  \n",
    "\n",
    "(Hint: to get the proper precision of the square root, use the `g` [formatting modifier](https://docs.python.org/3/library/string.html?highlight=str%20format#format-specification-mini-language))"
   ]
  },
  {
   "cell_type": "code",
   "execution_count": 6,
   "metadata": {},
   "outputs": [
    {
     "name": "stdout",
     "output_type": "stream",
     "text": [
      "The square of 1 is 1 while its square root is 1\n",
      "The square of 2 is 4 while its square root is 1.41421\n",
      "The square of 3 is 9 while its square root is 1.73205\n",
      "The square of 4 is 16 while its square root is 2\n",
      "The square of 5 is 25 while its square root is 2.23607\n",
      "The square of 6 is 36 while its square root is 2.44949\n",
      "The square of 7 is 49 while its square root is 2.64575\n",
      "The square of 8 is 64 while its square root is 2.82843\n",
      "The square of 9 is 81 while its square root is 3\n",
      "The square of 10 is 100 while its square root is 3.16228\n"
     ]
    }
   ],
   "source": [
    "for numTuple in numberCollection:\n",
    "    print(f\"The square of {numTuple[0]} is {numTuple[1]} while its square root is {numTuple[2]:g}\")"
   ]
  }
 ],
 "metadata": {
  "kernelspec": {
   "display_name": "Python 3",
   "language": "python",
   "name": "python3"
  },
  "language_info": {
   "codemirror_mode": {
    "name": "ipython",
    "version": 3
   },
   "file_extension": ".py",
   "mimetype": "text/x-python",
   "name": "python",
   "nbconvert_exporter": "python",
   "pygments_lexer": "ipython3",
   "version": "3.7.5"
  }
 },
 "nbformat": 4,
 "nbformat_minor": 4
}
