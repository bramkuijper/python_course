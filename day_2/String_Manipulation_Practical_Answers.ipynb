{
 "cells": [
  {
   "cell_type": "markdown",
   "metadata": {},
   "source": [
    "# String manipulation and Regular Expressions Practical\n",
    "\n",
    "# Answers to exercises\n",
    "\n",
    "## February 2020"
   ]
  },
  {
   "cell_type": "markdown",
   "metadata": {},
   "source": [
    "## Exercise 1\n",
    "Write a single-quoted byte string (i.e., `b'..'`) and print it to the screen using its member function `.decode('utf-8')`. The resulting message should be:\n",
    "\n",
    "`Bob told the PI:  \n",
    "        \"That complicated data 'pipeline'? She automated that already, using Python.\n",
    "        Hence she is now 'working remotely' from a château near Saint-Raphaël in France.\"`\n",
    "\n",
    "Hint: for the international characters, use the hexadecimal codes from the online [UTF-8 tool](http://www.ltg.ed.ac.uk/~richard/utf-8.cgi?input=%C3%A2&mode=char)"
   ]
  },
  {
   "cell_type": "code",
   "execution_count": 13,
   "metadata": {},
   "outputs": [
    {
     "name": "stdout",
     "output_type": "stream",
     "text": [
      "Bob told the PI:\n",
      "\t\t\"That complicated data 'pipeline'? She automated that already, using Python.\n",
      "\t\tHence she is now 'working remotely' from a château near Saint-Raphaël in France.\"\n"
     ]
    }
   ],
   "source": [
    "bytestr=b'Bob told the PI:\\n\\t\\t\\\"That complicated data \\'pipeline\\'? She automated that already, using Python.\\n\\t\\tHence she is now \\'working remotely\\' from a ch\\xc3\\xa2teau near Saint-Rapha\\xc3\\xabl in France.\\\"'\n",
    "print(bytestr.decode())"
   ]
  },
  {
   "cell_type": "markdown",
   "metadata": {},
   "source": [
    "## Exercise 2.1\n",
    "Write a function that randomly samples 20 items from a `list` of values, where each value is either a number between 1 and 10 or a whitespace. The function returns a `str` object of a single line containing all values, separated by commas, for example:\n",
    "\n",
    "`5,10,1,9,8,6,8,4,4,6, ,9,6,1,2,2,10,5,1, `\n",
    "\n",
    "Use the [`numpy.random.sample()`](https://docs.scipy.org/doc/numpy-1.14.0/reference/generated/numpy.random.choice.html#numpy.random.choice) function from the `numpy.random` library to randomly sample `size=20` values from a `list` object.\n",
    "\n",
    "**Hint**: the list of 20 values that results from `numpy.random.sample()` can then be joined together in one commas-separated string using the [`str.join()`](https://docs.python.org/3/library/stdtypes.html?highlight=split#str.join) function."
   ]
  },
  {
   "cell_type": "code",
   "execution_count": 14,
   "metadata": {},
   "outputs": [
    {
     "name": "stdout",
     "output_type": "stream",
     "text": [
      " ,6, , ,7,9, ,9,1,8,7,10,5,8,3,2, ,3,7,4\n"
     ]
    }
   ],
   "source": [
    "import numpy.random\n",
    "\n",
    "def generate_csv_line():\n",
    "    \n",
    "    # generate a list of numbers. We can convert it to \n",
    "    # str as we need to join them up later with other str\n",
    "    # objects. Then we add a whitespace\n",
    "    vallist = [str(x) for x in range(1,11)]+ [\" \"]\n",
    "    \n",
    "    # sample the 20 items from the list above\n",
    "    ran_sample = numpy.random.choice(a=vallist,size=20)\n",
    "    \n",
    "    # join them together using str.join()\n",
    "    return(\",\".join(ran_sample))\n",
    "\n",
    "csv_line_generated = generate_csv_line()\n",
    "\n",
    "print(csv_line_generated)"
   ]
  },
  {
   "cell_type": "markdown",
   "metadata": {},
   "source": [
    "## Exercise 2.2\n",
    "Write a second function, which takes the comma-separated string that you just generated as an argument. The function then counts the number of occurrences of each number or a whitespace in the string. The function should print a string that gives a value (i.e., a number or a whitespace) and the number of times this value was counted. Values that were not encountered in the string should have a count of 0.\n",
    "\n",
    "**Hint 1:** There are many ways of counting occurrences in a text. Typically using a dictionary is the most efficient.  \n",
    "**Hint 2:** Use the [`str.split()`](https://docs.python.org/3/library/stdtypes.html?highlight=split#str.split) function to chop up the items of the comma-separated list into a list of `str`s without the commas.\n",
    "\n",
    "For the example string `5,10,1,9,8,6,8,4,4,6, ,9,6,1,2,2,10,5,1, ` above, the output should be:  \n",
    "`Value 1 occurred 3 times.`  \n",
    "`Value 2 occurred 2 times.`  \n",
    "`Value 3 occurred 0 times.`  \n",
    "`Value 4 occurred 2 times.`  \n",
    "`Value 5 occurred 2 times.`  \n",
    "`Value 6 occurred 3 times.`  \n",
    "`Value 7 occurred 0 times.`  \n",
    "`Value 8 occurred 2 times.`  \n",
    "`Value 9 occurred 2 times.`  \n",
    "`Value 10 occurred 2 times.`  \n",
    "`Value   occurred 2 times.`"
   ]
  },
  {
   "cell_type": "code",
   "execution_count": 15,
   "metadata": {},
   "outputs": [],
   "source": [
    "def count_occurrences(csv_str):\n",
    "    \n",
    "    # initialize an empty dictionary\n",
    "    count_dictionary = {}\n",
    "        \n",
    "    # initialize dictionary with labels that are\n",
    "    # already in str format, so that we do not have convert later\n",
    "    # each label is associated with a count of 0:\n",
    "    for val in range(1,11):\n",
    "        count_dictionary[str(val)] = 0\n",
    "    \n",
    "    # add a whitespace item as well\n",
    "    count_dictionary[\" \"] = 0\n",
    "        \n",
    "    # split the string using str.split()\n",
    "    csv_str_splitted = csv_str.split(sep=\",\")\n",
    "    \n",
    "    for elmt in csv_str_splitted:\n",
    "        count_dictionary[elmt] += 1\n",
    "        \n",
    "    for key, val in count_dictionary.items():\n",
    "        print(f\"Value {key} occurred {val} times.\")"
   ]
  },
  {
   "cell_type": "code",
   "execution_count": 16,
   "metadata": {},
   "outputs": [
    {
     "name": "stdout",
     "output_type": "stream",
     "text": [
      "Value 1 occurred 1 times.\n",
      "Value 2 occurred 1 times.\n",
      "Value 3 occurred 2 times.\n",
      "Value 4 occurred 1 times.\n",
      "Value 5 occurred 1 times.\n",
      "Value 6 occurred 1 times.\n",
      "Value 7 occurred 3 times.\n",
      "Value 8 occurred 2 times.\n",
      "Value 9 occurred 2 times.\n",
      "Value 10 occurred 1 times.\n",
      "Value   occurred 5 times.\n"
     ]
    }
   ],
   "source": [
    "# for the string generated by the previous function:\n",
    "count_occurrences(csv_str=csv_line_generated)"
   ]
  },
  {
   "cell_type": "code",
   "execution_count": 17,
   "metadata": {},
   "outputs": [
    {
     "name": "stdout",
     "output_type": "stream",
     "text": [
      "Value 1 occurred 3 times.\n",
      "Value 2 occurred 2 times.\n",
      "Value 3 occurred 0 times.\n",
      "Value 4 occurred 2 times.\n",
      "Value 5 occurred 2 times.\n",
      "Value 6 occurred 3 times.\n",
      "Value 7 occurred 0 times.\n",
      "Value 8 occurred 2 times.\n",
      "Value 9 occurred 2 times.\n",
      "Value 10 occurred 2 times.\n",
      "Value   occurred 2 times.\n"
     ]
    }
   ],
   "source": [
    "# for the example string in the worksheet:\n",
    "count_occurrences(csv_str=\"5,10,1,9,8,6,8,4,4,6, ,9,6,1,2,2,10,5,1, \")"
   ]
  },
  {
   "cell_type": "markdown",
   "metadata": {},
   "source": [
    "## Exercise 3\n",
    "\n",
    "### Exercise 3.1\n",
    "Write a function that uses a regular expression to check whether a lowercase string is a DNA sequence: i.e., it only contains the 4 nucleotides 'c', 'g', 'a', 't'. If the string is not a sequence, it should return `False`. Otherwise the function should return `True`."
   ]
  },
  {
   "cell_type": "code",
   "execution_count": 18,
   "metadata": {},
   "outputs": [],
   "source": [
    "import re\n",
    "\n",
    "def isDNAseq(seq):\n",
    "    \n",
    "    # search for first occurrence of something else than any of\n",
    "    # the characters c, g, a or t (using the complement operator ^)\n",
    "    search_result = re.search(\"[^cgat]\",seq)\n",
    "\n",
    "    # if the search result is none (i.e., nothing else but cgat)\n",
    "    # return True otherwise return False\n",
    "    return(search_result == None)"
   ]
  },
  {
   "cell_type": "code",
   "execution_count": 19,
   "metadata": {},
   "outputs": [
    {
     "name": "stdout",
     "output_type": "stream",
     "text": [
      "True\n",
      "False\n"
     ]
    }
   ],
   "source": [
    "print(isDNAseq('cga'))\n",
    "print(isDNAseq('cgtb'))"
   ]
  },
  {
   "cell_type": "markdown",
   "metadata": {},
   "source": [
    "### Exercise 3.2\n",
    "Test the function: generate a list with strings and call the function repeatedly in a `for` loop. If the current string (say, `'cccggcgggg'` is indeed a sequence, the text `'The sequence 'cccggcgggg' is a sequence'` should appear. Whereas if the current string is not a sequence, the text `The sequence 'cccbcgggg' is not a sequence'` should appear."
   ]
  },
  {
   "cell_type": "code",
   "execution_count": 20,
   "metadata": {},
   "outputs": [
    {
     "name": "stdout",
     "output_type": "stream",
     "text": [
      "The sequence 'cggdddgttttttaaaa' is not a sequence\n",
      "The sequence 'gggcttta' is a sequence\n",
      "The sequence 'abdcdef' is not a sequence\n",
      "The sequence 'gct' is a sequence\n",
      "The sequence 'a' is a sequence\n"
     ]
    }
   ],
   "source": [
    "sampleSeqs = [\"cggdddgttttttaaaa\",\"gggcttta\",\"abdcdef\",\"gct\",\"a\"]\n",
    "\n",
    "for seq_i in sampleSeqs:\n",
    "    \n",
    "    yesno = \"\"\n",
    "    if not isDNAseq(seq_i):\n",
    "        yesno = \"not \"\n",
    "    \n",
    "    print(f\"The sequence '{seq_i}' is {yesno}a sequence\")"
   ]
  },
  {
   "cell_type": "markdown",
   "metadata": {},
   "source": [
    "***"
   ]
  },
  {
   "cell_type": "markdown",
   "metadata": {},
   "source": [
    "### Exercise 4\n",
    "\n",
    "\n",
    "### Exercise 4.1\n",
    "Try to match all characters but the first two and the last two in the string `'?:SADF005A3WERB1Fdk95fjdkjerij@!'` (note that the quotation marks `'` indicate that it is a string and need not be matched). You can either use [regex101](https://regex101.com/) or your spyder IDE. In the latter case, use the function `re.search()` to return a `match object` that is contained in the variable `m_obj`. "
   ]
  },
  {
   "cell_type": "code",
   "execution_count": 21,
   "metadata": {},
   "outputs": [
    {
     "name": "stdout",
     "output_type": "stream",
     "text": [
      "SADF005A3WERB1Fdk95fjdkjerij\n"
     ]
    }
   ],
   "source": [
    "test_str = '?:SADF005A3WERB1Fdk95fjdkjerij@!'\n",
    "regex = \"[a-zA-Z0-9]+\"\n",
    "m_obj = re.search(regex,test_str)\n",
    "\n",
    "print(m_obj.group(0))"
   ]
  },
  {
   "cell_type": "markdown",
   "metadata": {},
   "source": [
    "When you ignore the `re.search()` part of the question, there is another way:"
   ]
  },
  {
   "cell_type": "code",
   "execution_count": 22,
   "metadata": {},
   "outputs": [
    {
     "name": "stdout",
     "output_type": "stream",
     "text": [
      "SADF005A3WERB1Fdk95fjdkjerij\n"
     ]
    }
   ],
   "source": [
    "replaced = re.sub(\"[?:@!]\",\"\",test_str)\n",
    "print(replaced)"
   ]
  },
  {
   "cell_type": "markdown",
   "metadata": {},
   "source": [
    "### Exercise 4.2\n",
    "How many characters does your `match_.group(0)` contain? If only one, what modifier do you need to add to the regular expression?"
   ]
  },
  {
   "cell_type": "markdown",
   "metadata": {},
   "source": [
    "See above, you need to add a `+` after the `[]` to match one or more occurrences of the character class."
   ]
  },
  {
   "cell_type": "markdown",
   "metadata": {},
   "source": [
    "***"
   ]
  },
  {
   "cell_type": "markdown",
   "metadata": {},
   "source": [
    "## Exercise 5.1\n",
    "Use `re.sub()` to write `\"23.11.1980,29-12-2019,23051974\"` as `\"1980-11-23,2019-12-29,1974-05-23\"`"
   ]
  },
  {
   "cell_type": "code",
   "execution_count": 23,
   "metadata": {},
   "outputs": [
    {
     "data": {
      "text/plain": [
       "'1980-11-23,2019-12-29,1974-05-23'"
      ]
     },
     "execution_count": 23,
     "metadata": {},
     "output_type": "execute_result"
    }
   ],
   "source": [
    "date_str = \"23.11.1980,29-12-2019,23051974\"\n",
    "re.sub(pattern=r\"(\\d{2,2})[.-]?(\\d{1,2})[.-]?(\\d{4,4})\",repl=r\"\\3-\\2-\\1\",string=date_str)"
   ]
  },
  {
   "cell_type": "markdown",
   "metadata": {},
   "source": [
    "## Exercise 5.2\n",
    "Write a function that accepts a list with strings like the one below (i.e., a list of files in a directory)...\n",
    "`[\"tempfile_000\",\"sim_evol_29_03_2015_349348329\",\"sim_evol_29_03_2015_349348329_distribution1\",\"sim_evol_29_03_2015_349348329_graph\",\"sim_evol_29_03_2015_990999\",\"sim_evol_29_03_2015_990999_distribution1\",\"sim_evol_29_03_2015_9\"]`\n",
    ".. and retains only the following three elements:\n",
    "`[\"sim_evol_29_03_2015_349348329\",\"sim_evol_29_03_2015_990999\",\"sim_evol_29_03_2015_9\"]`\n",
    "\n",
    "**Hint**: you might want to first try things out on [regex101](https://regex101.com). Here is a list without the enclosing quotation marks of each element for easy copy-pasting:  \n",
    "`tempfile_000 sim_evol_29_03_2015_349348329 sim_evol_29_03_2015_349348329_distribution1 sim_evol_29_03_2015_349348329_graph sim_evol_29_03_2015_990999 sim_evol_29_03_2015_990999_distribution1 sim_evol_29_03_2015_9`\n",
    "\n",
    "PS: The task in 5.2 is a very common one: if you want to work with large numbers of files, regexes are the tool of choice for filtering complicated filenames\n"
   ]
  },
  {
   "cell_type": "code",
   "execution_count": 24,
   "metadata": {},
   "outputs": [
    {
     "data": {
      "text/plain": [
       "['sim_evol_29_03_2015_349348329',\n",
       " 'sim_evol_29_03_2015_990999',\n",
       " 'sim_evol_29_03_2015_9']"
      ]
     },
     "execution_count": 24,
     "metadata": {},
     "output_type": "execute_result"
    }
   ],
   "source": [
    "def filter_file_list(flist):\n",
    "    # 1. I use a list comprehension as you then\n",
    "    # assign a complete copy of the \n",
    "    # list (hence you will not affect the original)\n",
    "    # to x\n",
    "    \n",
    "    # the regex: \n",
    "    # 1. sim, or sim_evol first to get tempfile filtered out\n",
    "    # 2. if you look at the filenames, all selected files end ($)\n",
    "    # with an underscore character followed by one or more numbers (\\d+): r\"_\\d+$\"\n",
    "    # 3. \n",
    "    x = [ file_i for file_i in flist if re.search(\"sim.*_\\d+$\",file_i) is not None]\n",
    "    return(x)\n",
    "\n",
    "\n",
    "file_list=[\"tempfile_000\",\"sim_evol_29_03_2015_349348329\",\"sim_evol_29_03_2015_349348329_distribution1\",\"sim_evol_29_03_2015_349348329_graph\",\"sim_evol_29_03_2015_990999\",\"sim_evol_29_03_2015_990999_distribution1\",\"sim_evol_29_03_2015_9\"]\n",
    "\n",
    "filter_file_list(flist=file_list)"
   ]
  },
  {
   "cell_type": "code",
   "execution_count": null,
   "metadata": {},
   "outputs": [],
   "source": []
  }
 ],
 "metadata": {
  "kernelspec": {
   "display_name": "Python 3",
   "language": "python",
   "name": "python3"
  },
  "language_info": {
   "codemirror_mode": {
    "name": "ipython",
    "version": 3
   },
   "file_extension": ".py",
   "mimetype": "text/x-python",
   "name": "python",
   "nbconvert_exporter": "python",
   "pygments_lexer": "ipython3",
   "version": "3.7.3"
  }
 },
 "nbformat": 4,
 "nbformat_minor": 4
}
