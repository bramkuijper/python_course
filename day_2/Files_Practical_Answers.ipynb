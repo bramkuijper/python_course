{
 "cells": [
  {
   "cell_type": "markdown",
   "metadata": {},
   "source": [
    "# Python for scientific research\n",
    "# Working with files and filesystems (file IO)\n",
    "# Answers to exercises\n",
    "\n",
    "### Bram Kuijper\n",
    "### University of Exeter, Penryn Campus, UK\n",
    "### February 2020"
   ]
  },
  {
   "cell_type": "markdown",
   "metadata": {},
   "source": [
    "## Exercise 1\n",
    "Go to the [``os.path``](https://docs.python.org/3/library/os.path.html#module-os.path) page and read through the various methods available. \n",
    "\n",
    "### Exercise 1.1\n",
    "Find the three functions you think are most often used to obtain information about a file or directory."
   ]
  },
  {
   "cell_type": "markdown",
   "metadata": {},
   "source": [
    "This is a matter of taste of what you deem important, but I would say:\n",
    "\n",
    "1. ``os.path.expanduser(path)``: when provided with ``path=\"~\"`` returns one's home directory as a ``str`` object.\n",
    "2. ``os.path.exists(path)``: when a file or directory given by ``path`` exists, returns ``True`` and ``False`` otherwise\n",
    "3. ``os.path.join(path1, path2, path3, ...etc)``: saefely multiple paths together. Concatenating strings (``path1 + \"/\" + path2``) can lead to errors, as you don't know whether ``\"\\\"`` (windows) or ``\"/\"`` (unix) is used as a path separator, or whether ``path1`` already has a trailing ``\"/\"`` as in ``\"/home/foo/bar/\"``"
   ]
  },
  {
   "cell_type": "markdown",
   "metadata": {},
   "source": [
    "### Exercise 1.2\n",
    "\n",
    "The [``__file__``](https://docs.python.org/3/reference/import.html?highlight=__file__#__file__) variable contains the filename of the current python script. Write a function that is called ``current_file_info()``, accepts a file name as argument and returns a dictionary containing:\n",
    "  * the directory name in which your script resides\n",
    "  * the basename (i.e., ``script.py`` without the top-level directory)\n",
    "  * the extension of the script (if it is ``script.py`` it should give ``.py``)\n",
    "  * the creation time of the file (in seconds since January 1, 1970, 00:00:00 -- this sounds more difficult than it actually is)"
   ]
  },
  {
   "cell_type": "code",
   "execution_count": 14,
   "metadata": {},
   "outputs": [
    {
     "name": "stdout",
     "output_type": "stream",
     "text": [
      "{'dir': '/home/bram/Projects/4_Teaching/2019_2020/Python/slides/day_2', 'base': 'some_script3834872492.py', 'ext': '.py', 'ctime': 1582563527.3459046}\n"
     ]
    }
   ],
   "source": [
    "import os.path\n",
    "\n",
    "\n",
    "def current_file_info(the_file):\n",
    "    \n",
    "    # get the absolute, not the relative path\n",
    "    the_file = os.path.abspath(the_file)\n",
    "    dirname = os.path.dirname(the_file)\n",
    "    basename = os.path.basename(the_file)\n",
    "    ext = os.path.splitext(the_file)[1]\n",
    "    ctime = os.path.getctime(the_file)\n",
    "    \n",
    "    return({\"dir\":dirname,\"base\":basename,\"ext\":ext,\"ctime\":ctime})\n",
    "\n",
    "\n",
    "# as the __file__ variable is not available within these\n",
    "# notebooks (only within scripts), we quickly create a temporary file\n",
    "__file_mimick = os.path.join(\n",
    "    os.path.abspath(\".\"),\"some_script3834872492.py\")\n",
    "\n",
    "with open(__file_mimick,mode=\"w\") as f:\n",
    "    f.write(\"some contents\")\n",
    "    \n",
    "print(current_file_info(the_file = __file_mimick))\n",
    "\n",
    "os.remove(__file_mimick)"
   ]
  },
  {
   "cell_type": "markdown",
   "metadata": {},
   "source": [
    "## Exercise 2.2"
   ]
  },
  {
   "cell_type": "code",
   "execution_count": null,
   "metadata": {},
   "outputs": [],
   "source": []
  }
 ],
 "metadata": {
  "kernelspec": {
   "display_name": "Python 3",
   "language": "python",
   "name": "python3"
  },
  "language_info": {
   "codemirror_mode": {
    "name": "ipython",
    "version": 3
   },
   "file_extension": ".py",
   "mimetype": "text/x-python",
   "name": "python",
   "nbconvert_exporter": "python",
   "pygments_lexer": "ipython3",
   "version": "3.7.5"
  }
 },
 "nbformat": 4,
 "nbformat_minor": 4
}
